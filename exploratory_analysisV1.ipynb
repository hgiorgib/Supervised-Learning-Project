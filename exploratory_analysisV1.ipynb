{
 "cells": [
  {
   "cell_type": "markdown",
   "metadata": {},
   "source": [
    "## Exploratory Data Analysis\n",
    "\n",
    "Use this notebook to get familiar with the datasets we have. There is 10 questions we need to answer during the EDA.\n",
    "\n",
    "\n",
    "We shouldn't limit our EDA to these 10 questions. Let's be creative :)."
   ]
  },
  {
   "cell_type": "code",
   "execution_count": 2,
   "metadata": {},
   "outputs": [],
   "source": [
    "import numpy as np\n",
    "import pandas as pd\n",
    "import matplotlib as plt\n",
    "import seaborn as sns"
   ]
  },
  {
   "cell_type": "code",
   "execution_count": 23,
   "metadata": {},
   "outputs": [],
   "source": [
    "from scipy.stats import shapiro\n",
    "import statsmodels.api as sm"
   ]
  },
  {
   "cell_type": "code",
   "execution_count": 4,
   "metadata": {},
   "outputs": [],
   "source": [
    "df_flights = pd.read_csv('Data/flights_table.csv')"
   ]
  },
  {
   "cell_type": "code",
   "execution_count": 6,
   "metadata": {},
   "outputs": [],
   "source": [
    "df_passengers = pd.read_csv('Data/passengers_table.csv')\n",
    "df_fuel = pd. read_csv('Data/fuel_table.csv')"
   ]
  },
  {
   "cell_type": "code",
   "execution_count": 5,
   "metadata": {},
   "outputs": [
    {
     "data": {
      "text/plain": [
       "Index(['fl_date', 'mkt_unique_carrier', 'branded_code_share', 'mkt_carrier',\n",
       "       'mkt_carrier_fl_num', 'op_unique_carrier', 'tail_num',\n",
       "       'op_carrier_fl_num', 'origin_airport_id', 'origin', 'origin_city_name',\n",
       "       'dest_airport_id', 'dest', 'dest_city_name', 'crs_dep_time', 'dep_time',\n",
       "       'dep_delay', 'taxi_out', 'wheels_off', 'wheels_on', 'taxi_in',\n",
       "       'crs_arr_time', 'arr_time', 'arr_delay', 'cancelled',\n",
       "       'cancellation_code', 'diverted', 'dup', 'crs_elapsed_time',\n",
       "       'actual_elapsed_time', 'air_time', 'flights', 'distance',\n",
       "       'carrier_delay', 'weather_delay', 'nas_delay', 'security_delay',\n",
       "       'late_aircraft_delay', 'first_dep_time', 'total_add_gtime',\n",
       "       'longest_add_gtime', 'no_name'],\n",
       "      dtype='object')"
      ]
     },
     "execution_count": 5,
     "metadata": {},
     "output_type": "execute_result"
    }
   ],
   "source": [
    "df_flights.columns"
   ]
  },
  {
   "cell_type": "code",
   "execution_count": 7,
   "metadata": {},
   "outputs": [
    {
     "data": {
      "text/plain": [
       "fl_date                     0\n",
       "mkt_unique_carrier          0\n",
       "branded_code_share          0\n",
       "mkt_carrier                 0\n",
       "mkt_carrier_fl_num          0\n",
       "op_unique_carrier           0\n",
       "tail_num                  316\n",
       "op_carrier_fl_num           0\n",
       "origin_airport_id           0\n",
       "origin                      0\n",
       "origin_city_name            0\n",
       "dest_airport_id             0\n",
       "dest                        0\n",
       "dest_city_name              0\n",
       "crs_dep_time                0\n",
       "dep_time                 1636\n",
       "dep_delay                1669\n",
       "taxi_out                 1719\n",
       "wheels_off               1718\n",
       "wheels_on                1766\n",
       "taxi_in                  1767\n",
       "crs_arr_time                0\n",
       "arr_time                 1732\n",
       "arr_delay                1960\n",
       "cancelled                   0\n",
       "cancellation_code       98299\n",
       "diverted                    0\n",
       "dup                         0\n",
       "crs_elapsed_time            0\n",
       "actual_elapsed_time      1943\n",
       "air_time                 1977\n",
       "flights                     0\n",
       "distance                    0\n",
       "carrier_delay           81101\n",
       "weather_delay           81101\n",
       "nas_delay               81101\n",
       "security_delay          81101\n",
       "late_aircraft_delay     81101\n",
       "first_dep_time          99348\n",
       "total_add_gtime         99348\n",
       "longest_add_gtime       99348\n",
       "no_name                100000\n",
       "dtype: int64"
      ]
     },
     "execution_count": 7,
     "metadata": {},
     "output_type": "execute_result"
    }
   ],
   "source": [
    "df_flights.isnull().sum()"
   ]
  },
  {
   "cell_type": "code",
   "execution_count": 19,
   "metadata": {},
   "outputs": [
    {
     "data": {
      "text/plain": [
       "-9.0      2921\n",
       "-11.0     2917\n",
       "-8.0      2854\n",
       "-13.0     2834\n",
       "-12.0     2798\n",
       "          ... \n",
       " 333.0       1\n",
       " 567.0       1\n",
       " 830.0       1\n",
       " 456.0       1\n",
       " 703.0       1\n",
       "Name: arr_delay, Length: 607, dtype: int64"
      ]
     },
     "execution_count": 19,
     "metadata": {},
     "output_type": "execute_result"
    }
   ],
   "source": [
    "df_flights['arr_delay'].value_counts()"
   ]
  },
  {
   "cell_type": "markdown",
   "metadata": {},
   "source": [
    "#### **Task 1**: Test the hypothesis that the delay is from Normal distribution. and that **mean** of the delay is 0. Be careful about the outliers."
   ]
  },
  {
   "cell_type": "code",
   "execution_count": 12,
   "metadata": {},
   "outputs": [],
   "source": [
    "## Drop rows with missing arr_delay \n",
    "df_flights.dropna(subset=['arr_delay'], inplace=True)"
   ]
  },
  {
   "cell_type": "code",
   "execution_count": 22,
   "metadata": {},
   "outputs": [
    {
     "data": {
      "text/plain": [
       "Text(0.5, 0, 'Arrival delay')"
      ]
     },
     "execution_count": 22,
     "metadata": {},
     "output_type": "execute_result"
    },
    {
     "data": {
      "image/png": "[encoded data removed]",
      "text/plain": [
       "<Figure size 640x480 with 1 Axes>"
      ]
     },
     "metadata": {},
     "output_type": "display_data"
    }
   ],
   "source": [
    "## Plot a graph\n",
    "ax = sns.histplot(x=df_flights['arr_delay'])\n",
    "\n",
    "ax.set_xlim(-50,500)\n",
    "\n",
    "ax.set_xlabel(\"Arrival delay\")"
   ]
  },
  {
   "cell_type": "code",
   "execution_count": 25,
   "metadata": {},
   "outputs": [
    {
     "data": {
      "text/plain": [
       "0.0"
      ]
     },
     "execution_count": 25,
     "metadata": {},
     "output_type": "execute_result"
    }
   ],
   "source": [
    "## Shapiro Wilk test\n",
    "stat, p_value = shapiro(df_flights['arr_delay'])\n",
    "p_value"
   ]
  },
  {
   "cell_type": "markdown",
   "metadata": {},
   "source": [
    "Not normally distributed but that is without removing outliers"
   ]
  },
  {
   "cell_type": "code",
   "execution_count": 28,
   "metadata": {},
   "outputs": [],
   "source": [
    "## Remove outliers --> \tUsing IQR Method\n",
    "Q1 = df_flights['arr_delay'].quantile(0.25)\n",
    "Q3 = df_flights['arr_delay'].quantile(0.75)\n",
    "IQR = Q3 - Q1\n",
    "iqr = df_flights['arr_delay'].quantile(0.75) - df_flights['arr_delay'].quantile(0.25)"
   ]
  },
  {
   "cell_type": "code",
   "execution_count": 33,
   "metadata": {},
   "outputs": [],
   "source": [
    "lower_bound = (Q1 - 1.5 * IQR)\n",
    "upper_bound = (Q3 + 1.5 * IQR)"
   ]
  },
  {
   "cell_type": "code",
   "execution_count": 36,
   "metadata": {},
   "outputs": [],
   "source": [
    "df_arr_delay = df_flights[(df_flights['arr_delay'] > lower_bound) & (df_flights['arr_delay'] < upper_bound)]"
   ]
  },
  {
   "cell_type": "code",
   "execution_count": 40,
   "metadata": {},
   "outputs": [],
   "source": [
    "## This dataframe now has arrival delay with outliers removed\n",
    "df_arr_delay = df_arr_delay['arr_delay']"
   ]
  },
  {
   "cell_type": "code",
   "execution_count": 43,
   "metadata": {},
   "outputs": [
    {
     "data": {
      "text/plain": [
       "Text(0.5, 0, 'Arrival delay')"
      ]
     },
     "execution_count": 43,
     "metadata": {},
     "output_type": "execute_result"
    },
    {
     "data": {
      "image/png": "[encoded data removed]",
      "text/plain": [
       "<Figure size 640x480 with 1 Axes>"
      ]
     },
     "metadata": {},
     "output_type": "display_data"
    }
   ],
   "source": [
    "## Plot a graph\n",
    "ax = sns.histplot(x=df_arr_delay)\n",
    "\n",
    "ax.set_xlim(-50,100)\n",
    "\n",
    "ax.set_xlabel(\"Arrival delay\")\n"
   ]
  },
  {
   "cell_type": "code",
   "execution_count": null,
   "metadata": {},
   "outputs": [],
   "source": [
    "## Shapiro Wilk test\n",
    "stat, p_value = shapiro(df_arr_delay)\n",
    "p_value"
   ]
  },
  {
   "cell_type": "markdown",
   "metadata": {},
   "source": [
    "Still Not Normally distributed"
   ]
  },
  {
   "cell_type": "code",
   "execution_count": 46,
   "metadata": {},
   "outputs": [
    {
     "data": {
      "text/plain": [
       "7.006492321624085e-45"
      ]
     },
     "execution_count": 46,
     "metadata": {},
     "output_type": "execute_result"
    }
   ],
   "source": [
    "## If we take a random sample?\n",
    "arr_delay_sample = df_arr_delay.sample( n= 10000 )\n",
    "stat, p_value = shapiro(arr_delay_sample)\n",
    "p_value"
   ]
  },
  {
   "cell_type": "markdown",
   "metadata": {},
   "source": [
    "In this case it is normally distributed"
   ]
  },
  {
   "cell_type": "markdown",
   "metadata": {},
   "source": [
    "#### **Task 2**: Is average/median monthly delay different during the year? If yes, which are months with the biggest delays and what could be the reason?"
   ]
  },
  {
   "cell_type": "code",
   "execution_count": 47,
   "metadata": {},
   "outputs": [],
   "source": [
    "df_flights2 = df_flights[(df_flights['arr_delay'] > lower_bound) & (df_flights['arr_delay'] < upper_bound)]"
   ]
  },
  {
   "cell_type": "code",
   "execution_count": 64,
   "metadata": {},
   "outputs": [],
   "source": [
    "df_monthly_delay = df_flights[['fl_date','arr_delay']]"
   ]
  },
  {
   "cell_type": "code",
   "execution_count": null,
   "metadata": {},
   "outputs": [],
   "source": [
    "## Convert fl_date to date time object so we can extract the Month\n",
    "df_monthly_delay['fl_date'] = pd.to_datetime(df_monthly_delay['fl_date'])"
   ]
  },
  {
   "cell_type": "code",
   "execution_count": null,
   "metadata": {},
   "outputs": [],
   "source": [
    "## Create new month column\n",
    "df_monthly_delay['month'] = df_monthly_delay['fl_date'].dt.month"
   ]
  },
  {
   "cell_type": "code",
   "execution_count": null,
   "metadata": {},
   "outputs": [],
   "source": [
    "df_monthly_delay.drop(columns = 'fl_date', inplace = True)"
   ]
  },
  {
   "cell_type": "code",
   "execution_count": 68,
   "metadata": {},
   "outputs": [
    {
     "data": {
      "text/html": [
       "<div>\n",
       "<style scoped>\n",
       "    .dataframe tbody tr th:only-of-type {\n",
       "        vertical-align: middle;\n",
       "    }\n",
       "\n",
       "    .dataframe tbody tr th {\n",
       "        vertical-align: top;\n",
       "    }\n",
       "\n",
       "    .dataframe thead th {\n",
       "        text-align: right;\n",
       "    }\n",
       "</style>\n",
       "<table border=\"1\" class=\"dataframe\">\n",
       "  <thead>\n",
       "    <tr style=\"text-align: right;\">\n",
       "      <th></th>\n",
       "      <th>arr_delay</th>\n",
       "      <th>month</th>\n",
       "    </tr>\n",
       "  </thead>\n",
       "  <tbody>\n",
       "    <tr>\n",
       "      <th>1</th>\n",
       "      <td>7.0</td>\n",
       "      <td>4</td>\n",
       "    </tr>\n",
       "    <tr>\n",
       "      <th>2</th>\n",
       "      <td>-4.0</td>\n",
       "      <td>12</td>\n",
       "    </tr>\n",
       "    <tr>\n",
       "      <th>3</th>\n",
       "      <td>-33.0</td>\n",
       "      <td>11</td>\n",
       "    </tr>\n",
       "    <tr>\n",
       "      <th>4</th>\n",
       "      <td>-13.0</td>\n",
       "      <td>5</td>\n",
       "    </tr>\n",
       "    <tr>\n",
       "      <th>5</th>\n",
       "      <td>-15.0</td>\n",
       "      <td>11</td>\n",
       "    </tr>\n",
       "    <tr>\n",
       "      <th>...</th>\n",
       "      <td>...</td>\n",
       "      <td>...</td>\n",
       "    </tr>\n",
       "    <tr>\n",
       "      <th>99995</th>\n",
       "      <td>-13.0</td>\n",
       "      <td>8</td>\n",
       "    </tr>\n",
       "    <tr>\n",
       "      <th>99996</th>\n",
       "      <td>47.0</td>\n",
       "      <td>8</td>\n",
       "    </tr>\n",
       "    <tr>\n",
       "      <th>99997</th>\n",
       "      <td>-20.0</td>\n",
       "      <td>4</td>\n",
       "    </tr>\n",
       "    <tr>\n",
       "      <th>99998</th>\n",
       "      <td>-11.0</td>\n",
       "      <td>9</td>\n",
       "    </tr>\n",
       "    <tr>\n",
       "      <th>99999</th>\n",
       "      <td>21.0</td>\n",
       "      <td>5</td>\n",
       "    </tr>\n",
       "  </tbody>\n",
       "</table>\n",
       "<p>98040 rows × 2 columns</p>\n",
       "</div>"
      ],
      "text/plain": [
       "       arr_delay  month\n",
       "1            7.0      4\n",
       "2           -4.0     12\n",
       "3          -33.0     11\n",
       "4          -13.0      5\n",
       "5          -15.0     11\n",
       "...          ...    ...\n",
       "99995      -13.0      8\n",
       "99996       47.0      8\n",
       "99997      -20.0      4\n",
       "99998      -11.0      9\n",
       "99999       21.0      5\n",
       "\n",
       "[98040 rows x 2 columns]"
      ]
     },
     "execution_count": 68,
     "metadata": {},
     "output_type": "execute_result"
    }
   ],
   "source": [
    "df_monthly_delay"
   ]
  },
  {
   "cell_type": "code",
   "execution_count": 72,
   "metadata": {},
   "outputs": [
    {
     "data": {
      "text/html": [
       "<div>\n",
       "<style scoped>\n",
       "    .dataframe tbody tr th:only-of-type {\n",
       "        vertical-align: middle;\n",
       "    }\n",
       "\n",
       "    .dataframe tbody tr th {\n",
       "        vertical-align: top;\n",
       "    }\n",
       "\n",
       "    .dataframe thead tr th {\n",
       "        text-align: left;\n",
       "    }\n",
       "\n",
       "    .dataframe thead tr:last-of-type th {\n",
       "        text-align: right;\n",
       "    }\n",
       "</style>\n",
       "<table border=\"1\" class=\"dataframe\">\n",
       "  <thead>\n",
       "    <tr>\n",
       "      <th></th>\n",
       "      <th colspan=\"2\" halign=\"left\">arr_delay</th>\n",
       "    </tr>\n",
       "    <tr>\n",
       "      <th></th>\n",
       "      <th>mean</th>\n",
       "      <th>median</th>\n",
       "    </tr>\n",
       "    <tr>\n",
       "      <th>month</th>\n",
       "      <th></th>\n",
       "      <th></th>\n",
       "    </tr>\n",
       "  </thead>\n",
       "  <tbody>\n",
       "    <tr>\n",
       "      <th>1</th>\n",
       "      <td>3.270001</td>\n",
       "      <td>-7.0</td>\n",
       "    </tr>\n",
       "    <tr>\n",
       "      <th>2</th>\n",
       "      <td>5.988638</td>\n",
       "      <td>-6.0</td>\n",
       "    </tr>\n",
       "    <tr>\n",
       "      <th>3</th>\n",
       "      <td>2.613784</td>\n",
       "      <td>-6.0</td>\n",
       "    </tr>\n",
       "    <tr>\n",
       "      <th>4</th>\n",
       "      <td>4.087005</td>\n",
       "      <td>-6.0</td>\n",
       "    </tr>\n",
       "    <tr>\n",
       "      <th>5</th>\n",
       "      <td>6.473603</td>\n",
       "      <td>-6.0</td>\n",
       "    </tr>\n",
       "    <tr>\n",
       "      <th>6</th>\n",
       "      <td>10.882803</td>\n",
       "      <td>-4.0</td>\n",
       "    </tr>\n",
       "    <tr>\n",
       "      <th>7</th>\n",
       "      <td>9.474350</td>\n",
       "      <td>-5.0</td>\n",
       "    </tr>\n",
       "    <tr>\n",
       "      <th>8</th>\n",
       "      <td>8.485595</td>\n",
       "      <td>-5.0</td>\n",
       "    </tr>\n",
       "    <tr>\n",
       "      <th>9</th>\n",
       "      <td>2.696210</td>\n",
       "      <td>-8.0</td>\n",
       "    </tr>\n",
       "    <tr>\n",
       "      <th>10</th>\n",
       "      <td>3.074547</td>\n",
       "      <td>-6.0</td>\n",
       "    </tr>\n",
       "    <tr>\n",
       "      <th>11</th>\n",
       "      <td>2.767923</td>\n",
       "      <td>-7.0</td>\n",
       "    </tr>\n",
       "    <tr>\n",
       "      <th>12</th>\n",
       "      <td>5.135483</td>\n",
       "      <td>-6.0</td>\n",
       "    </tr>\n",
       "  </tbody>\n",
       "</table>\n",
       "</div>"
      ],
      "text/plain": [
       "       arr_delay       \n",
       "            mean median\n",
       "month                  \n",
       "1       3.270001   -7.0\n",
       "2       5.988638   -6.0\n",
       "3       2.613784   -6.0\n",
       "4       4.087005   -6.0\n",
       "5       6.473603   -6.0\n",
       "6      10.882803   -4.0\n",
       "7       9.474350   -5.0\n",
       "8       8.485595   -5.0\n",
       "9       2.696210   -8.0\n",
       "10      3.074547   -6.0\n",
       "11      2.767923   -7.0\n",
       "12      5.135483   -6.0"
      ]
     },
     "execution_count": 72,
     "metadata": {},
     "output_type": "execute_result"
    }
   ],
   "source": [
    "df_monthly_delay.groupby('month', as_index = False).agg(['mean','median'])"
   ]
  },
  {
   "cell_type": "code",
   "execution_count": 73,
   "metadata": {},
   "outputs": [],
   "source": [
    "df_mean_delay = df_monthly_delay.groupby('month', as_index = False).mean()"
   ]
  },
  {
   "cell_type": "code",
   "execution_count": 76,
   "metadata": {},
   "outputs": [
    {
     "data": {
      "text/html": [
       "<div>\n",
       "<style scoped>\n",
       "    .dataframe tbody tr th:only-of-type {\n",
       "        vertical-align: middle;\n",
       "    }\n",
       "\n",
       "    .dataframe tbody tr th {\n",
       "        vertical-align: top;\n",
       "    }\n",
       "\n",
       "    .dataframe thead th {\n",
       "        text-align: right;\n",
       "    }\n",
       "</style>\n",
       "<table border=\"1\" class=\"dataframe\">\n",
       "  <thead>\n",
       "    <tr style=\"text-align: right;\">\n",
       "      <th></th>\n",
       "      <th>month</th>\n",
       "      <th>arr_delay</th>\n",
       "    </tr>\n",
       "  </thead>\n",
       "  <tbody>\n",
       "    <tr>\n",
       "      <th>0</th>\n",
       "      <td>1</td>\n",
       "      <td>3.270001</td>\n",
       "    </tr>\n",
       "    <tr>\n",
       "      <th>1</th>\n",
       "      <td>2</td>\n",
       "      <td>5.988638</td>\n",
       "    </tr>\n",
       "    <tr>\n",
       "      <th>2</th>\n",
       "      <td>3</td>\n",
       "      <td>2.613784</td>\n",
       "    </tr>\n",
       "    <tr>\n",
       "      <th>3</th>\n",
       "      <td>4</td>\n",
       "      <td>4.087005</td>\n",
       "    </tr>\n",
       "    <tr>\n",
       "      <th>4</th>\n",
       "      <td>5</td>\n",
       "      <td>6.473603</td>\n",
       "    </tr>\n",
       "    <tr>\n",
       "      <th>5</th>\n",
       "      <td>6</td>\n",
       "      <td>10.882803</td>\n",
       "    </tr>\n",
       "    <tr>\n",
       "      <th>6</th>\n",
       "      <td>7</td>\n",
       "      <td>9.474350</td>\n",
       "    </tr>\n",
       "    <tr>\n",
       "      <th>7</th>\n",
       "      <td>8</td>\n",
       "      <td>8.485595</td>\n",
       "    </tr>\n",
       "    <tr>\n",
       "      <th>8</th>\n",
       "      <td>9</td>\n",
       "      <td>2.696210</td>\n",
       "    </tr>\n",
       "    <tr>\n",
       "      <th>9</th>\n",
       "      <td>10</td>\n",
       "      <td>3.074547</td>\n",
       "    </tr>\n",
       "    <tr>\n",
       "      <th>10</th>\n",
       "      <td>11</td>\n",
       "      <td>2.767923</td>\n",
       "    </tr>\n",
       "    <tr>\n",
       "      <th>11</th>\n",
       "      <td>12</td>\n",
       "      <td>5.135483</td>\n",
       "    </tr>\n",
       "  </tbody>\n",
       "</table>\n",
       "</div>"
      ],
      "text/plain": [
       "    month  arr_delay\n",
       "0       1   3.270001\n",
       "1       2   5.988638\n",
       "2       3   2.613784\n",
       "3       4   4.087005\n",
       "4       5   6.473603\n",
       "5       6  10.882803\n",
       "6       7   9.474350\n",
       "7       8   8.485595\n",
       "8       9   2.696210\n",
       "9      10   3.074547\n",
       "10     11   2.767923\n",
       "11     12   5.135483"
      ]
     },
     "execution_count": 76,
     "metadata": {},
     "output_type": "execute_result"
    }
   ],
   "source": [
    "df_mean_delay"
   ]
  },
  {
   "cell_type": "code",
   "execution_count": 79,
   "metadata": {},
   "outputs": [
    {
     "data": {
      "text/plain": [
       "Text(0.5, 1.0, 'Avg Departure Delay per Month')"
      ]
     },
     "execution_count": 79,
     "metadata": {},
     "output_type": "execute_result"
    },
    {
     "data": {
      "image/png": "[encoded data removed]",
      "text/plain": [
       "<Figure size 640x480 with 1 Axes>"
      ]
     },
     "metadata": {},
     "output_type": "display_data"
    }
   ],
   "source": [
    "ax = sns.barplot(data=df_mean_delay, x='month', y='arr_delay')\n",
    " \n",
    "##Labels and title\n",
    "ax.set_xlabel('Month')\n",
    "ax.set_ylabel('Average Departure Delay (mins)')\n",
    "ax.set_title('Avg Departure Delay per Month')"
   ]
  },
  {
   "cell_type": "markdown",
   "metadata": {},
   "source": [
    "According to the mean, June, July and August had the highest delays.These are the summer months so we have the most amount of air travel in general, perhaps resulting in more delays"
   ]
  },
  {
   "cell_type": "markdown",
   "metadata": {},
   "source": [
    "#### **Task 3**: Does the weather affect the delay? \n",
    "Use the API to pull the weather information for flights. There is no need to get weather for ALL flights. We can choose the right representative sample. Let's focus on four weather types:\n",
    "- sunny\n",
    "- cloudy\n",
    "- rainy\n",
    "- snow.\n",
    "Test the hypothesis that these 4 delays are from the same distribution. If they are not, which ones are significantly different?"
   ]
  },
  {
   "cell_type": "code",
   "execution_count": null,
   "metadata": {},
   "outputs": [],
   "source": []
  },
  {
   "cell_type": "code",
   "execution_count": null,
   "metadata": {},
   "outputs": [],
   "source": []
  },
  {
   "cell_type": "markdown",
   "metadata": {},
   "source": [
    "#### **Task 4**: How taxi times changing during the day? Does higher traffic lead to bigger taxi times?"
   ]
  },
  {
   "cell_type": "code",
   "execution_count": null,
   "metadata": {},
   "outputs": [],
   "source": []
  },
  {
   "cell_type": "code",
   "execution_count": null,
   "metadata": {},
   "outputs": [],
   "source": []
  },
  {
   "cell_type": "markdown",
   "metadata": {},
   "source": [
    "#### **Task 5**: What is the average percentage of delays that is already created before departure? (aka are arrival delays caused by departure delays?) Are airlines able to lower the delay during the flights?"
   ]
  },
  {
   "cell_type": "code",
   "execution_count": 86,
   "metadata": {},
   "outputs": [
    {
     "name": "stdout",
     "output_type": "stream",
     "text": [
      "34277\n",
      "33511\n"
     ]
    }
   ],
   "source": [
    "num_arr_delays = df_flights[df_flights['arr_delay'] > 0]['arr_delay'].count()\n",
    "num_dep_delays = df_flights[df_flights['dep_delay'] > 0]['dep_delay'].count()\n",
    "print(num_arr_delays)\n",
    "print(num_dep_delays)"
   ]
  },
  {
   "cell_type": "code",
   "execution_count": 87,
   "metadata": {},
   "outputs": [
    {
     "name": "stdout",
     "output_type": "stream",
     "text": [
      "97.76526533827348\n"
     ]
    }
   ],
   "source": [
    "before_departure_percent = num_dep_delays / num_arr_delays * 100\n",
    "print(before_departure_percent)"
   ]
  },
  {
   "cell_type": "markdown",
   "metadata": {},
   "source": [
    "#### **Task 6**: How many states cover 50% of US air traffic? "
   ]
  },
  {
   "cell_type": "code",
   "execution_count": null,
   "metadata": {},
   "outputs": [],
   "source": []
  },
  {
   "cell_type": "code",
   "execution_count": null,
   "metadata": {},
   "outputs": [],
   "source": []
  },
  {
   "cell_type": "markdown",
   "metadata": {},
   "source": [
    "#### **Task 7**: Test the hypothesis whether planes fly faster when there is the departure delay? "
   ]
  },
  {
   "cell_type": "code",
   "execution_count": 95,
   "metadata": {},
   "outputs": [],
   "source": [
    "df_flights_speed = df_flights\n",
    "df_flights_speed['flight_speed'] = df_flights['distance'] / df_flights['air_time']"
   ]
  },
  {
   "cell_type": "code",
   "execution_count": 96,
   "metadata": {},
   "outputs": [
    {
     "data": {
      "text/plain": [
       "(33511, 43)"
      ]
     },
     "execution_count": 96,
     "metadata": {},
     "output_type": "execute_result"
    }
   ],
   "source": [
    "df_dep_delay = df_flights_speed[df_flights['dep_delay'] > 0]\n",
    "df_dep_delay.shape"
   ]
  },
  {
   "cell_type": "code",
   "execution_count": 97,
   "metadata": {},
   "outputs": [
    {
     "data": {
      "text/plain": [
       "(64499, 43)"
      ]
     },
     "execution_count": 97,
     "metadata": {},
     "output_type": "execute_result"
    }
   ],
   "source": [
    "df_no_dep_delay = df_flights_speed[(df_flights['dep_delay'] == 0) | (df_flights['dep_delay'] < 0)]\n",
    "df_no_dep_delay.shape"
   ]
  },
  {
   "cell_type": "code",
   "execution_count": 98,
   "metadata": {},
   "outputs": [
    {
     "name": "stdout",
     "output_type": "stream",
     "text": [
      "6.764529382920201\n",
      "6.5961945571962595\n"
     ]
    }
   ],
   "source": [
    "avg_speed_delay = df_dep_delay['flight_speed'].mean()\n",
    "avg_speed_nodelay = df_no_dep_delay['flight_speed'].mean()\n",
    "print(avg_speed_delay)\n",
    "print(avg_speed_nodelay)"
   ]
  },
  {
   "cell_type": "code",
   "execution_count": 100,
   "metadata": {},
   "outputs": [
    {
     "name": "stdout",
     "output_type": "stream",
     "text": [
      "T-statistic: 20.13693113004389, p-value: 5.335268698305114e-90\n"
     ]
    }
   ],
   "source": [
    "## Perform t-test\n",
    "from scipy.stats import ttest_ind\n",
    "\n",
    "t_stat, p_value = ttest_ind(df_dep_delay['flight_speed'].dropna(), df_no_dep_delay['flight_speed'].dropna())\n",
    "\n",
    "print(f'T-statistic: {t_stat}, p-value: {p_value}')"
   ]
  },
  {
   "cell_type": "markdown",
   "metadata": {},
   "source": [
    "#### **Task 8**: When (which hour) do most 'LONG', 'SHORT', 'MEDIUM' haul flights take off?"
   ]
  },
  {
   "cell_type": "markdown",
   "metadata": {},
   "source": [
    "For this task let's take this under consideration:\n",
    "1. Long Haul: 3000 miles or more\n",
    "2. Medium Haul: 1500 miles or more but less than 3000 miles\n",
    "3. Short Haul: less than 1500 miles"
   ]
  },
  {
   "cell_type": "code",
   "execution_count": 494,
   "metadata": {},
   "outputs": [],
   "source": [
    "# load csv file\n",
    "df_takeoff = pd.read_csv('Data/flightsV2.csv')"
   ]
  },
  {
   "attachments": {},
   "cell_type": "markdown",
   "metadata": {},
   "source": [
    "Creating a separate time group"
   ]
  },
  {
   "cell_type": "code",
   "execution_count": 508,
   "metadata": {},
   "outputs": [],
   "source": [
    "# convert crs_dep_time to time in hours and seconds\n",
    "df_takeoff['time_col'] = pd.to_datetime(df_takeoff['crs_dep_time'].astype(str).apply(lambda x: x.zfill(4)), format='%H%M').dt.time"
   ]
  },
  {
   "cell_type": "code",
   "execution_count": 509,
   "metadata": {},
   "outputs": [],
   "source": [
    "# convert the time_col column to a number of seconds past midnight\n",
    "df_takeoff['time_seconds'] = df_takeoff['time_col'].apply(lambda x: (x.hour * 3600) + (x.minute * 60) + x.second)\n",
    "\n",
    "# bin the time_seconds column\n",
    "df_takeoff['time_group'] = pd.cut(df_takeoff['time_seconds'], \n",
    "                                       bins=[0, 14400, 57600, 72000, 86399], \n",
    "                                       labels=['Morning', 'Afternoon', 'Evening', 'Night'])"
   ]
  },
  {
   "cell_type": "code",
   "execution_count": 510,
   "metadata": {},
   "outputs": [],
   "source": [
    "# new column for long, medium and short haul\n",
    "df_takeoff['flight_type'] = np.where(df_takeoff['distance'] > 3000, 'long', np.where((df_takeoff['distance'] > 1500) & (df_takeoff['distance'] < 3000), 'medium', 'short'))"
   ]
  },
  {
   "cell_type": "code",
   "execution_count": 511,
   "metadata": {},
   "outputs": [
    {
     "data": {
      "text/plain": [
       "Text(0, 0.5, 'Flight Type')"
      ]
     },
     "execution_count": 511,
     "metadata": {},
     "output_type": "execute_result"
    },
    {
     "data": {
      "image/png": "[encoded data removed]",
      "text/plain": [
       "<Figure size 1000x800 with 1 Axes>"
      ]
     },
     "metadata": {},
     "output_type": "display_data"
    }
   ],
   "source": [
    "# box plot for flight_type and time_group\n",
    "plt.figure(figsize=(10,8))\n",
    "ax = sns.boxplot(x='distance', y='flight_type', hue='time_group', data=df_takeoff)\n",
    "ax.set_title('Flight Distance by Flight Type and Time of Day')\n",
    "ax.set_xlabel('Distance (miles)')\n",
    "ax.set_ylabel('Flight Type')"
   ]
  },
  {
   "cell_type": "code",
   "execution_count": 512,
   "metadata": {},
   "outputs": [
    {
     "data": {
      "text/html": [
       "<div>\n",
       "<style scoped>\n",
       "    .dataframe tbody tr th:only-of-type {\n",
       "        vertical-align: middle;\n",
       "    }\n",
       "\n",
       "    .dataframe tbody tr th {\n",
       "        vertical-align: top;\n",
       "    }\n",
       "\n",
       "    .dataframe thead th {\n",
       "        text-align: right;\n",
       "    }\n",
       "</style>\n",
       "<table border=\"1\" class=\"dataframe\">\n",
       "  <thead>\n",
       "    <tr style=\"text-align: right;\">\n",
       "      <th></th>\n",
       "      <th>time_group</th>\n",
       "      <th>count</th>\n",
       "    </tr>\n",
       "  </thead>\n",
       "  <tbody>\n",
       "    <tr>\n",
       "      <th>0</th>\n",
       "      <td>Morning</td>\n",
       "      <td>339</td>\n",
       "    </tr>\n",
       "    <tr>\n",
       "      <th>1</th>\n",
       "      <td>Afternoon</td>\n",
       "      <td>65771</td>\n",
       "    </tr>\n",
       "    <tr>\n",
       "      <th>2</th>\n",
       "      <td>Evening</td>\n",
       "      <td>23130</td>\n",
       "    </tr>\n",
       "    <tr>\n",
       "      <th>3</th>\n",
       "      <td>Night</td>\n",
       "      <td>10760</td>\n",
       "    </tr>\n",
       "  </tbody>\n",
       "</table>\n",
       "</div>"
      ],
      "text/plain": [
       "  time_group  count\n",
       "0    Morning    339\n",
       "1  Afternoon  65771\n",
       "2    Evening  23130\n",
       "3      Night  10760"
      ]
     },
     "execution_count": 512,
     "metadata": {},
     "output_type": "execute_result"
    }
   ],
   "source": [
    "# count flights by flight_type and time_group\n",
    "df_takeoff_count = df_takeoff.groupby(['time_group']).size().reset_index(name='count')\n",
    "df_takeoff_count"
   ]
  },
  {
   "cell_type": "code",
   "execution_count": 517,
   "metadata": {},
   "outputs": [
    {
     "data": {
      "text/plain": [
       "Text(0, 0.5, 'Flight Type')"
      ]
     },
     "execution_count": 517,
     "metadata": {},
     "output_type": "execute_result"
    },
    {
     "data": {
      "image/png": "[encoded data removed]",
      "text/plain": [
       "<Figure size 1000x800 with 1 Axes>"
      ]
     },
     "metadata": {},
     "output_type": "display_data"
    }
   ],
   "source": [
    "# count number of values between 14400, 57600 using time_seconds column\n",
    "df_takeoff['time_seconds'].between(14400, 57600).sum()\n",
    "\n",
    "# create a box plot for flight_type and time_seconds between 14400 and 57600 (convert to hours)\n",
    "plt.figure(figsize=(10,8))\n",
    "ax = sns.boxplot(x='time_seconds', y='flight_type', data=df_takeoff[df_takeoff['time_seconds'].between(14400, 57600)])\n",
    "# convert x-axis to hours\n",
    "ax.set_xticks([14400, 28800, 43200, 57600])\n",
    "ax.set_xticklabels(['4:00', '8:00', '12:00', '16:00'])\n",
    "ax.set_title('Flight Distance by Flight Type and Time of Day')\n",
    "ax.set_xlabel('Distance (miles)')\n",
    "ax.set_ylabel('Flight Type')\n"
   ]
  },
  {
   "attachments": {},
   "cell_type": "markdown",
   "metadata": {},
   "source": [
    "Clearly we can interpret most number of flights take off between `10.00 AM to 11.00 AM`"
   ]
  },
  {
   "attachments": {},
   "cell_type": "markdown",
   "metadata": {},
   "source": [
    "**From above information we can interpret that the most number of flights are in the `afternoon` and the least number of flights are in the `morning`.**"
   ]
  },
  {
   "cell_type": "markdown",
   "metadata": {},
   "source": [
    "#### **Task 9**: Find the top 10 the bussiest airports. Does the biggest number of flights mean that the biggest number of passengers went through the particular airport? How much traffic do these 10 airports cover?"
   ]
  },
  {
   "cell_type": "markdown",
   "metadata": {},
   "source": [
    "First going to check number of flights"
   ]
  },
  {
   "cell_type": "code",
   "execution_count": 101,
   "metadata": {},
   "outputs": [],
   "source": [
    "df_traffic = df_flights[['origin', 'dest']]"
   ]
  },
  {
   "cell_type": "code",
   "execution_count": 115,
   "metadata": {},
   "outputs": [],
   "source": [
    "## Create dataframe with count of flights from an airport\n",
    "df_origin = df_flights.groupby('origin').size().reset_index(name='num_flights_from')\n",
    "df_origin = df_origin.rename(columns = {'origin':'airport'})"
   ]
  },
  {
   "cell_type": "code",
   "execution_count": 116,
   "metadata": {},
   "outputs": [],
   "source": [
    "## Create dataframe with count of flights to airport\n",
    "df_dest = df_flights.groupby('dest').size().reset_index(name='num_flights_to')\n",
    "df_dest = df_dest.rename(columns = {'dest':'airport'})"
   ]
  },
  {
   "cell_type": "code",
   "execution_count": 117,
   "metadata": {},
   "outputs": [],
   "source": [
    "## Merge dataframes\n",
    "df_traffic = pd.merge(df_origin,df_dest, on = 'airport')"
   ]
  },
  {
   "cell_type": "code",
   "execution_count": 119,
   "metadata": {},
   "outputs": [
    {
     "data": {
      "text/html": [
       "<div>\n",
       "<style scoped>\n",
       "    .dataframe tbody tr th:only-of-type {\n",
       "        vertical-align: middle;\n",
       "    }\n",
       "\n",
       "    .dataframe tbody tr th {\n",
       "        vertical-align: top;\n",
       "    }\n",
       "\n",
       "    .dataframe thead th {\n",
       "        text-align: right;\n",
       "    }\n",
       "</style>\n",
       "<table border=\"1\" class=\"dataframe\">\n",
       "  <thead>\n",
       "    <tr style=\"text-align: right;\">\n",
       "      <th></th>\n",
       "      <th>airport</th>\n",
       "      <th>num_flights_from</th>\n",
       "      <th>num_flights_to</th>\n",
       "    </tr>\n",
       "  </thead>\n",
       "  <tbody>\n",
       "    <tr>\n",
       "      <th>0</th>\n",
       "      <td>ABE</td>\n",
       "      <td>77</td>\n",
       "      <td>61</td>\n",
       "    </tr>\n",
       "    <tr>\n",
       "      <th>1</th>\n",
       "      <td>ABI</td>\n",
       "      <td>24</td>\n",
       "      <td>19</td>\n",
       "    </tr>\n",
       "    <tr>\n",
       "      <th>2</th>\n",
       "      <td>ABQ</td>\n",
       "      <td>361</td>\n",
       "      <td>341</td>\n",
       "    </tr>\n",
       "    <tr>\n",
       "      <th>3</th>\n",
       "      <td>ABR</td>\n",
       "      <td>16</td>\n",
       "      <td>3</td>\n",
       "    </tr>\n",
       "    <tr>\n",
       "      <th>4</th>\n",
       "      <td>ABY</td>\n",
       "      <td>13</td>\n",
       "      <td>9</td>\n",
       "    </tr>\n",
       "  </tbody>\n",
       "</table>\n",
       "</div>"
      ],
      "text/plain": [
       "  airport  num_flights_from  num_flights_to\n",
       "0     ABE                77              61\n",
       "1     ABI                24              19\n",
       "2     ABQ               361             341\n",
       "3     ABR                16               3\n",
       "4     ABY                13               9"
      ]
     },
     "execution_count": 119,
     "metadata": {},
     "output_type": "execute_result"
    }
   ],
   "source": [
    "df_traffic.head()"
   ]
  },
  {
   "cell_type": "code",
   "execution_count": 124,
   "metadata": {},
   "outputs": [
    {
     "data": {
      "text/html": [
       "<div>\n",
       "<style scoped>\n",
       "    .dataframe tbody tr th:only-of-type {\n",
       "        vertical-align: middle;\n",
       "    }\n",
       "\n",
       "    .dataframe tbody tr th {\n",
       "        vertical-align: top;\n",
       "    }\n",
       "\n",
       "    .dataframe thead th {\n",
       "        text-align: right;\n",
       "    }\n",
       "</style>\n",
       "<table border=\"1\" class=\"dataframe\">\n",
       "  <thead>\n",
       "    <tr style=\"text-align: right;\">\n",
       "      <th></th>\n",
       "      <th>airport</th>\n",
       "      <th>num_flights_from</th>\n",
       "      <th>num_flights_to</th>\n",
       "      <th>total flights</th>\n",
       "    </tr>\n",
       "  </thead>\n",
       "  <tbody>\n",
       "    <tr>\n",
       "      <th>21</th>\n",
       "      <td>ATL</td>\n",
       "      <td>4866</td>\n",
       "      <td>4922</td>\n",
       "      <td>9788</td>\n",
       "    </tr>\n",
       "    <tr>\n",
       "      <th>252</th>\n",
       "      <td>ORD</td>\n",
       "      <td>4874</td>\n",
       "      <td>4849</td>\n",
       "      <td>9723</td>\n",
       "    </tr>\n",
       "    <tr>\n",
       "      <th>93</th>\n",
       "      <td>DFW</td>\n",
       "      <td>3612</td>\n",
       "      <td>3563</td>\n",
       "      <td>7175</td>\n",
       "    </tr>\n",
       "    <tr>\n",
       "      <th>92</th>\n",
       "      <td>DEN</td>\n",
       "      <td>3349</td>\n",
       "      <td>3322</td>\n",
       "      <td>6671</td>\n",
       "    </tr>\n",
       "    <tr>\n",
       "      <th>192</th>\n",
       "      <td>LAX</td>\n",
       "      <td>3212</td>\n",
       "      <td>3046</td>\n",
       "      <td>6258</td>\n",
       "    </tr>\n",
       "    <tr>\n",
       "      <th>72</th>\n",
       "      <td>CLT</td>\n",
       "      <td>3092</td>\n",
       "      <td>3029</td>\n",
       "      <td>6121</td>\n",
       "    </tr>\n",
       "    <tr>\n",
       "      <th>313</th>\n",
       "      <td>SEA</td>\n",
       "      <td>2399</td>\n",
       "      <td>2316</td>\n",
       "      <td>4715</td>\n",
       "    </tr>\n",
       "    <tr>\n",
       "      <th>166</th>\n",
       "      <td>IAH</td>\n",
       "      <td>2198</td>\n",
       "      <td>2210</td>\n",
       "      <td>4408</td>\n",
       "    </tr>\n",
       "    <tr>\n",
       "      <th>100</th>\n",
       "      <td>DTW</td>\n",
       "      <td>2216</td>\n",
       "      <td>2190</td>\n",
       "      <td>4406</td>\n",
       "    </tr>\n",
       "    <tr>\n",
       "      <th>315</th>\n",
       "      <td>SFO</td>\n",
       "      <td>2214</td>\n",
       "      <td>2160</td>\n",
       "      <td>4374</td>\n",
       "    </tr>\n",
       "  </tbody>\n",
       "</table>\n",
       "</div>"
      ],
      "text/plain": [
       "    airport  num_flights_from  num_flights_to  total flights\n",
       "21      ATL              4866            4922           9788\n",
       "252     ORD              4874            4849           9723\n",
       "93      DFW              3612            3563           7175\n",
       "92      DEN              3349            3322           6671\n",
       "192     LAX              3212            3046           6258\n",
       "72      CLT              3092            3029           6121\n",
       "313     SEA              2399            2316           4715\n",
       "166     IAH              2198            2210           4408\n",
       "100     DTW              2216            2190           4406\n",
       "315     SFO              2214            2160           4374"
      ]
     },
     "execution_count": 124,
     "metadata": {},
     "output_type": "execute_result"
    }
   ],
   "source": [
    "## Create new column with combined flights\n",
    "df_traffic['total flights'] = df_traffic['num_flights_from'] + df_traffic['num_flights_to']\n",
    "\n",
    "## Sort by top 10 based on flights\n",
    "busiest_airports = df_traffic.sort_values(by = 'total flights', ascending = False)\n",
    "\n",
    "busiest_airports.head(10)"
   ]
  },
  {
   "cell_type": "markdown",
   "metadata": {},
   "source": [
    "Now lets check by number of passengers"
   ]
  },
  {
   "cell_type": "code",
   "execution_count": 125,
   "metadata": {},
   "outputs": [
    {
     "data": {
      "text/plain": [
       "Index(['departures_scheduled', 'departures_performed', 'payload', 'seats',\n",
       "       'passengers', 'freight', 'mail', 'distance', 'ramp_to_ramp', 'air_time',\n",
       "       'unique_carrier', 'airline_id', 'unique_carrier_name', 'region',\n",
       "       'carrier', 'carrier_name', 'carrier_group', 'carrier_group_new',\n",
       "       'origin_airport_id', 'origin_city_market_id', 'origin',\n",
       "       'origin_city_name', 'origin_country', 'origin_country_name',\n",
       "       'dest_airport_id', 'dest_city_market_id', 'dest', 'dest_city_name',\n",
       "       'dest_country', 'dest_country_name', 'aircraft_group', 'aircraft_type',\n",
       "       'aircraft_config', 'year', 'month', 'distance_group', 'class',\n",
       "       'data_source'],\n",
       "      dtype='object')"
      ]
     },
     "execution_count": 125,
     "metadata": {},
     "output_type": "execute_result"
    }
   ],
   "source": [
    "df_passengers.columns"
   ]
  },
  {
   "cell_type": "code",
   "execution_count": 142,
   "metadata": {},
   "outputs": [
    {
     "data": {
      "text/html": [
       "<div>\n",
       "<style scoped>\n",
       "    .dataframe tbody tr th:only-of-type {\n",
       "        vertical-align: middle;\n",
       "    }\n",
       "\n",
       "    .dataframe tbody tr th {\n",
       "        vertical-align: top;\n",
       "    }\n",
       "\n",
       "    .dataframe thead th {\n",
       "        text-align: right;\n",
       "    }\n",
       "</style>\n",
       "<table border=\"1\" class=\"dataframe\">\n",
       "  <thead>\n",
       "    <tr style=\"text-align: right;\">\n",
       "      <th></th>\n",
       "      <th>departures_scheduled</th>\n",
       "      <th>departures_performed</th>\n",
       "      <th>payload</th>\n",
       "      <th>seats</th>\n",
       "      <th>passengers</th>\n",
       "      <th>freight</th>\n",
       "      <th>mail</th>\n",
       "      <th>distance</th>\n",
       "      <th>ramp_to_ramp</th>\n",
       "      <th>air_time</th>\n",
       "      <th>...</th>\n",
       "      <th>dest_country</th>\n",
       "      <th>dest_country_name</th>\n",
       "      <th>aircraft_group</th>\n",
       "      <th>aircraft_type</th>\n",
       "      <th>aircraft_config</th>\n",
       "      <th>year</th>\n",
       "      <th>month</th>\n",
       "      <th>distance_group</th>\n",
       "      <th>class</th>\n",
       "      <th>data_source</th>\n",
       "    </tr>\n",
       "  </thead>\n",
       "  <tbody>\n",
       "    <tr>\n",
       "      <th>0</th>\n",
       "      <td>28</td>\n",
       "      <td>28</td>\n",
       "      <td>1393280</td>\n",
       "      <td>5570</td>\n",
       "      <td>4956</td>\n",
       "      <td>388</td>\n",
       "      <td>0</td>\n",
       "      <td>2615</td>\n",
       "      <td>8672</td>\n",
       "      <td>7981</td>\n",
       "      <td>...</td>\n",
       "      <td>US</td>\n",
       "      <td>United States</td>\n",
       "      <td>6</td>\n",
       "      <td>622</td>\n",
       "      <td>1</td>\n",
       "      <td>2017</td>\n",
       "      <td>2</td>\n",
       "      <td>6</td>\n",
       "      <td>F</td>\n",
       "      <td>DU</td>\n",
       "    </tr>\n",
       "    <tr>\n",
       "      <th>1</th>\n",
       "      <td>31</td>\n",
       "      <td>31</td>\n",
       "      <td>3199100</td>\n",
       "      <td>8432</td>\n",
       "      <td>7343</td>\n",
       "      <td>129977</td>\n",
       "      <td>0</td>\n",
       "      <td>3831</td>\n",
       "      <td>13813</td>\n",
       "      <td>12588</td>\n",
       "      <td>...</td>\n",
       "      <td>ES</td>\n",
       "      <td>Spain</td>\n",
       "      <td>6</td>\n",
       "      <td>627</td>\n",
       "      <td>1</td>\n",
       "      <td>2019</td>\n",
       "      <td>7</td>\n",
       "      <td>8</td>\n",
       "      <td>F</td>\n",
       "      <td>IU</td>\n",
       "    </tr>\n",
       "    <tr>\n",
       "      <th>2</th>\n",
       "      <td>28</td>\n",
       "      <td>27</td>\n",
       "      <td>832363</td>\n",
       "      <td>3402</td>\n",
       "      <td>3029</td>\n",
       "      <td>578</td>\n",
       "      <td>1200</td>\n",
       "      <td>2350</td>\n",
       "      <td>8401</td>\n",
       "      <td>7813</td>\n",
       "      <td>...</td>\n",
       "      <td>EC</td>\n",
       "      <td>Ecuador</td>\n",
       "      <td>6</td>\n",
       "      <td>612</td>\n",
       "      <td>1</td>\n",
       "      <td>2018</td>\n",
       "      <td>8</td>\n",
       "      <td>5</td>\n",
       "      <td>F</td>\n",
       "      <td>IU</td>\n",
       "    </tr>\n",
       "    <tr>\n",
       "      <th>3</th>\n",
       "      <td>10</td>\n",
       "      <td>10</td>\n",
       "      <td>327852</td>\n",
       "      <td>1582</td>\n",
       "      <td>1106</td>\n",
       "      <td>0</td>\n",
       "      <td>1862</td>\n",
       "      <td>1824</td>\n",
       "      <td>2902</td>\n",
       "      <td>2582</td>\n",
       "      <td>...</td>\n",
       "      <td>US</td>\n",
       "      <td>United States</td>\n",
       "      <td>6</td>\n",
       "      <td>614</td>\n",
       "      <td>1</td>\n",
       "      <td>2015</td>\n",
       "      <td>2</td>\n",
       "      <td>4</td>\n",
       "      <td>F</td>\n",
       "      <td>DU</td>\n",
       "    </tr>\n",
       "    <tr>\n",
       "      <th>4</th>\n",
       "      <td>0</td>\n",
       "      <td>3</td>\n",
       "      <td>640170</td>\n",
       "      <td>0</td>\n",
       "      <td>0</td>\n",
       "      <td>558358</td>\n",
       "      <td>0</td>\n",
       "      <td>264</td>\n",
       "      <td>236</td>\n",
       "      <td>160</td>\n",
       "      <td>...</td>\n",
       "      <td>US</td>\n",
       "      <td>United States</td>\n",
       "      <td>6</td>\n",
       "      <td>625</td>\n",
       "      <td>2</td>\n",
       "      <td>2016</td>\n",
       "      <td>12</td>\n",
       "      <td>1</td>\n",
       "      <td>P</td>\n",
       "      <td>DU</td>\n",
       "    </tr>\n",
       "  </tbody>\n",
       "</table>\n",
       "<p>5 rows × 38 columns</p>\n",
       "</div>"
      ],
      "text/plain": [
       "   departures_scheduled  departures_performed  payload  seats  passengers  \\\n",
       "0                    28                    28  1393280   5570        4956   \n",
       "1                    31                    31  3199100   8432        7343   \n",
       "2                    28                    27   832363   3402        3029   \n",
       "3                    10                    10   327852   1582        1106   \n",
       "4                     0                     3   640170      0           0   \n",
       "\n",
       "   freight  mail  distance  ramp_to_ramp  air_time  ... dest_country  \\\n",
       "0      388     0      2615          8672      7981  ...           US   \n",
       "1   129977     0      3831         13813     12588  ...           ES   \n",
       "2      578  1200      2350          8401      7813  ...           EC   \n",
       "3        0  1862      1824          2902      2582  ...           US   \n",
       "4   558358     0       264           236       160  ...           US   \n",
       "\n",
       "   dest_country_name aircraft_group aircraft_type aircraft_config  year  \\\n",
       "0      United States              6           622               1  2017   \n",
       "1              Spain              6           627               1  2019   \n",
       "2            Ecuador              6           612               1  2018   \n",
       "3      United States              6           614               1  2015   \n",
       "4      United States              6           625               2  2016   \n",
       "\n",
       "   month  distance_group  class  data_source  \n",
       "0      2               6      F           DU  \n",
       "1      7               8      F           IU  \n",
       "2      8               5      F           IU  \n",
       "3      2               4      F           DU  \n",
       "4     12               1      P           DU  \n",
       "\n",
       "[5 rows x 38 columns]"
      ]
     },
     "execution_count": 142,
     "metadata": {},
     "output_type": "execute_result"
    }
   ],
   "source": [
    "df_passengers.head()"
   ]
  },
  {
   "cell_type": "code",
   "execution_count": 132,
   "metadata": {},
   "outputs": [],
   "source": [
    "p_origin = df_passengers.groupby('origin')['passengers'].sum().reset_index(name='num_passengers_origin')\n",
    "p_origin = p_origin.rename(columns = {'origin':'airport'})"
   ]
  },
  {
   "cell_type": "code",
   "execution_count": 137,
   "metadata": {},
   "outputs": [],
   "source": [
    "p_dest = df_passengers.groupby('dest')['passengers'].sum().reset_index(name='num_passengers_dest')\n",
    "p_dest = p_dest.rename(columns = {'dest':'airport'})"
   ]
  },
  {
   "cell_type": "code",
   "execution_count": 139,
   "metadata": {},
   "outputs": [],
   "source": [
    "p_traffic = pd.merge(p_origin, p_dest, on = 'airport')"
   ]
  },
  {
   "cell_type": "code",
   "execution_count": 141,
   "metadata": {},
   "outputs": [],
   "source": [
    "p_traffic['total_passengers'] = p_traffic['num_passengers_origin'] + p_traffic['num_passengers_dest']"
   ]
  },
  {
   "cell_type": "code",
   "execution_count": 144,
   "metadata": {},
   "outputs": [
    {
     "data": {
      "text/html": [
       "<div>\n",
       "<style scoped>\n",
       "    .dataframe tbody tr th:only-of-type {\n",
       "        vertical-align: middle;\n",
       "    }\n",
       "\n",
       "    .dataframe tbody tr th {\n",
       "        vertical-align: top;\n",
       "    }\n",
       "\n",
       "    .dataframe thead th {\n",
       "        text-align: right;\n",
       "    }\n",
       "</style>\n",
       "<table border=\"1\" class=\"dataframe\">\n",
       "  <thead>\n",
       "    <tr style=\"text-align: right;\">\n",
       "      <th></th>\n",
       "      <th>airport</th>\n",
       "      <th>num_passengers_origin</th>\n",
       "      <th>num_passengers_dest</th>\n",
       "      <th>total_passengers</th>\n",
       "    </tr>\n",
       "  </thead>\n",
       "  <tbody>\n",
       "    <tr>\n",
       "      <th>68</th>\n",
       "      <td>ATL</td>\n",
       "      <td>5561091</td>\n",
       "      <td>5313811</td>\n",
       "      <td>10874902</td>\n",
       "    </tr>\n",
       "    <tr>\n",
       "      <th>554</th>\n",
       "      <td>LAX</td>\n",
       "      <td>4345371</td>\n",
       "      <td>4486314</td>\n",
       "      <td>8831685</td>\n",
       "    </tr>\n",
       "    <tr>\n",
       "      <th>722</th>\n",
       "      <td>ORD</td>\n",
       "      <td>4054542</td>\n",
       "      <td>4165764</td>\n",
       "      <td>8220306</td>\n",
       "    </tr>\n",
       "    <tr>\n",
       "      <th>246</th>\n",
       "      <td>DFW</td>\n",
       "      <td>3638167</td>\n",
       "      <td>3318694</td>\n",
       "      <td>6956861</td>\n",
       "    </tr>\n",
       "    <tr>\n",
       "      <th>479</th>\n",
       "      <td>JFK</td>\n",
       "      <td>3281376</td>\n",
       "      <td>3204178</td>\n",
       "      <td>6485554</td>\n",
       "    </tr>\n",
       "    <tr>\n",
       "      <th>245</th>\n",
       "      <td>DEN</td>\n",
       "      <td>3086259</td>\n",
       "      <td>3294860</td>\n",
       "      <td>6381119</td>\n",
       "    </tr>\n",
       "    <tr>\n",
       "      <th>882</th>\n",
       "      <td>SFO</td>\n",
       "      <td>2910419</td>\n",
       "      <td>2868174</td>\n",
       "      <td>5778593</td>\n",
       "    </tr>\n",
       "    <tr>\n",
       "      <th>552</th>\n",
       "      <td>LAS</td>\n",
       "      <td>2523521</td>\n",
       "      <td>2816337</td>\n",
       "      <td>5339858</td>\n",
       "    </tr>\n",
       "    <tr>\n",
       "      <th>306</th>\n",
       "      <td>EWR</td>\n",
       "      <td>2339589</td>\n",
       "      <td>2587475</td>\n",
       "      <td>4927064</td>\n",
       "    </tr>\n",
       "    <tr>\n",
       "      <th>447</th>\n",
       "      <td>IAH</td>\n",
       "      <td>2309150</td>\n",
       "      <td>2288013</td>\n",
       "      <td>4597163</td>\n",
       "    </tr>\n",
       "  </tbody>\n",
       "</table>\n",
       "</div>"
      ],
      "text/plain": [
       "    airport  num_passengers_origin  num_passengers_dest  total_passengers\n",
       "68      ATL                5561091              5313811          10874902\n",
       "554     LAX                4345371              4486314           8831685\n",
       "722     ORD                4054542              4165764           8220306\n",
       "246     DFW                3638167              3318694           6956861\n",
       "479     JFK                3281376              3204178           6485554\n",
       "245     DEN                3086259              3294860           6381119\n",
       "882     SFO                2910419              2868174           5778593\n",
       "552     LAS                2523521              2816337           5339858\n",
       "306     EWR                2339589              2587475           4927064\n",
       "447     IAH                2309150              2288013           4597163"
      ]
     },
     "execution_count": 144,
     "metadata": {},
     "output_type": "execute_result"
    }
   ],
   "source": [
    "passengers_busiest = p_traffic.sort_values(by = 'total_passengers', ascending = False)\n",
    "passengers_busiest.head(10)"
   ]
  },
  {
   "cell_type": "markdown",
   "metadata": {},
   "source": [
    "For the most part, number of flights does correspond to total number of passengers at a specific airport"
   ]
  },
  {
   "cell_type": "markdown",
   "metadata": {},
   "source": [
    "#### **Task 10**: Do bigger delays lead to bigger fuel comsumption per passenger? \n",
    "We need to do four things to answer this as accurate as possible:\n",
    "- Find out average monthly delay per air carrier (monthly delay is sum of all delays in 1 month)\n",
    "- Find out distance covered monthly by different air carriers\n",
    "- Find out number of passengers that were carried by different air carriers\n",
    "- Find out total fuel comsumption per air carrier.\n",
    "\n",
    "Use this information to get the average fuel comsumption per passenger per km. Is this higher for the airlines with bigger average delays?"
   ]
  },
  {
   "cell_type": "code",
   "execution_count": null,
   "metadata": {},
   "outputs": [],
   "source": []
  },
  {
   "cell_type": "code",
   "execution_count": null,
   "metadata": {},
   "outputs": [],
   "source": []
  }
 ],
 "metadata": {
  "kernelspec": {
   "display_name": "Python 3 (ipykernel)",
   "language": "python",
   "name": "python3"
  },
  "language_info": {
   "codemirror_mode": {
    "name": "ipython",
    "version": 3
   },
   "file_extension": ".py",
   "mimetype": "text/x-python",
   "name": "python",
   "nbconvert_exporter": "python",
   "pygments_lexer": "ipython3",
   "version": "3.9.13"
  },
  "toc": {
   "base_numbering": 1,
   "nav_menu": {},
   "number_sections": true,
   "sideBar": true,
   "skip_h1_title": false,
   "title_cell": "Table of Contents",
   "title_sidebar": "Contents",
   "toc_cell": false,
   "toc_position": {},
   "toc_section_display": true,
   "toc_window_display": false
  },
  "varInspector": {
   "cols": {
    "lenName": 16,
    "lenType": 16,
    "lenVar": 40
   },
   "kernels_config": {
    "python": {
     "delete_cmd_postfix": "",
     "delete_cmd_prefix": "del ",
     "library": "var_list.py",
     "varRefreshCmd": "print(var_dic_list())"
    },
    "r": {
     "delete_cmd_postfix": ") ",
     "delete_cmd_prefix": "rm(",
     "library": "var_list.r",
     "varRefreshCmd": "cat(var_dic_list()) "
    }
   },
   "types_to_exclude": [
    "module",
    "function",
    "builtin_function_or_method",
    "instance",
    "_Feature"
   ],
   "window_display": false
  }
 },
 "nbformat": 4,
 "nbformat_minor": 4
}
