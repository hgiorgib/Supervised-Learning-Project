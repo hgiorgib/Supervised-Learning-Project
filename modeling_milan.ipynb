{
 "cells": [
  {
   "cell_type": "markdown",
   "metadata": {},
   "source": [
    "# Machine Learning\n",
    "\n",
    "In this file, instructions how to approach the challenge can be found."
   ]
  },
  {
   "cell_type": "markdown",
   "metadata": {},
   "source": [
    "We are going to work on different types of Machine Learning problems:\n",
    "\n",
    "- **Regression Problem**: The goal is to predict delay of flights.\n",
    "- **(Stretch) Multiclass Classification**: If the plane was delayed, we will predict what type of delay it is (will be).\n",
    "- **(Stretch) Binary Classification**: The goal is to predict if the flight will be cancelled."
   ]
  },
  {
   "cell_type": "code",
   "execution_count": 165,
   "metadata": {},
   "outputs": [],
   "source": [
    "import pandas as pd\n",
    "import numpy as np\n",
    "import statsmodels.api as sm\n",
    "\n",
    "from sklearn.model_selection import train_test_split\n",
    "from sklearn.linear_model import LinearRegression\n",
    "from sklearn.metrics import r2_score, mean_squared_error, mean_absolute_error\n",
    "\n",
    "from sklearn.ensemble import RandomForestRegressor"
   ]
  },
  {
   "cell_type": "markdown",
   "metadata": {},
   "source": [
    "## Main Task: Regression Problem"
   ]
  },
  {
   "cell_type": "markdown",
   "metadata": {},
   "source": [
    "The target variable is **ARR_DELAY**. We need to be careful which columns to use and which don't. For example, DEP_DELAY is going to be the perfect predictor, but we can't use it because in real-life scenario, we want to predict the delay before the flight takes of --> We can use average delay from earlier days but not the one from the actual flight we predict.  \n",
    "\n",
    "For example, variables **CARRIER_DELAY, WEATHER_DELAY, NAS_DELAY, SECURITY_DELAY, LATE_AIRCRAFT_DELAY** shouldn't be used directly as predictors as well. However, we can create various transformations from earlier values.\n",
    "\n",
    "We will be evaluating your models by predicting the ARR_DELAY for all flights **1 week in advance**."
   ]
  },
  {
   "cell_type": "code",
   "execution_count": 149,
   "metadata": {},
   "outputs": [],
   "source": [
    "# Load the data\n",
    "df_flights = pandas.read_csv('Data/flights_table.csv', index_col=0)"
   ]
  },
  {
   "cell_type": "code",
   "execution_count": 150,
   "metadata": {},
   "outputs": [
    {
     "data": {
      "text/plain": [
       "Index(['mkt_unique_carrier', 'branded_code_share', 'mkt_carrier',\n",
       "       'mkt_carrier_fl_num', 'op_unique_carrier', 'tail_num',\n",
       "       'op_carrier_fl_num', 'origin_airport_id', 'origin', 'origin_city_name',\n",
       "       'dest_airport_id', 'dest', 'dest_city_name', 'crs_dep_time', 'dep_time',\n",
       "       'dep_delay', 'taxi_out', 'wheels_off', 'wheels_on', 'taxi_in',\n",
       "       'crs_arr_time', 'arr_time', 'arr_delay', 'cancelled',\n",
       "       'cancellation_code', 'diverted', 'dup', 'crs_elapsed_time',\n",
       "       'actual_elapsed_time', 'air_time', 'flights', 'distance',\n",
       "       'carrier_delay', 'weather_delay', 'nas_delay', 'security_delay',\n",
       "       'late_aircraft_delay', 'first_dep_time', 'total_add_gtime',\n",
       "       'longest_add_gtime', 'no_name'],\n",
       "      dtype='object')"
      ]
     },
     "execution_count": 150,
     "metadata": {},
     "output_type": "execute_result"
    }
   ],
   "source": [
    "df_flights.columns"
   ]
  },
  {
   "cell_type": "code",
   "execution_count": 121,
   "metadata": {},
   "outputs": [
    {
     "data": {
      "text/html": [
       "<div>\n",
       "<style scoped>\n",
       "    .dataframe tbody tr th:only-of-type {\n",
       "        vertical-align: middle;\n",
       "    }\n",
       "\n",
       "    .dataframe tbody tr th {\n",
       "        vertical-align: top;\n",
       "    }\n",
       "\n",
       "    .dataframe thead th {\n",
       "        text-align: right;\n",
       "    }\n",
       "</style>\n",
       "<table border=\"1\" class=\"dataframe\">\n",
       "  <thead>\n",
       "    <tr style=\"text-align: right;\">\n",
       "      <th></th>\n",
       "      <th>mkt_unique_carrier</th>\n",
       "      <th>branded_code_share</th>\n",
       "      <th>mkt_carrier</th>\n",
       "      <th>mkt_carrier_fl_num</th>\n",
       "      <th>op_unique_carrier</th>\n",
       "      <th>tail_num</th>\n",
       "      <th>op_carrier_fl_num</th>\n",
       "      <th>origin_airport_id</th>\n",
       "      <th>origin</th>\n",
       "      <th>origin_city_name</th>\n",
       "      <th>...</th>\n",
       "      <th>distance</th>\n",
       "      <th>carrier_delay</th>\n",
       "      <th>weather_delay</th>\n",
       "      <th>nas_delay</th>\n",
       "      <th>security_delay</th>\n",
       "      <th>late_aircraft_delay</th>\n",
       "      <th>first_dep_time</th>\n",
       "      <th>total_add_gtime</th>\n",
       "      <th>longest_add_gtime</th>\n",
       "      <th>no_name</th>\n",
       "    </tr>\n",
       "    <tr>\n",
       "      <th>fl_date</th>\n",
       "      <th></th>\n",
       "      <th></th>\n",
       "      <th></th>\n",
       "      <th></th>\n",
       "      <th></th>\n",
       "      <th></th>\n",
       "      <th></th>\n",
       "      <th></th>\n",
       "      <th></th>\n",
       "      <th></th>\n",
       "      <th></th>\n",
       "      <th></th>\n",
       "      <th></th>\n",
       "      <th></th>\n",
       "      <th></th>\n",
       "      <th></th>\n",
       "      <th></th>\n",
       "      <th></th>\n",
       "      <th></th>\n",
       "      <th></th>\n",
       "      <th></th>\n",
       "    </tr>\n",
       "  </thead>\n",
       "  <tbody>\n",
       "    <tr>\n",
       "      <th>2019-08-01</th>\n",
       "      <td>WN</td>\n",
       "      <td>WN</td>\n",
       "      <td>WN</td>\n",
       "      <td>2498</td>\n",
       "      <td>WN</td>\n",
       "      <td>N567WN</td>\n",
       "      <td>2498</td>\n",
       "      <td>11066</td>\n",
       "      <td>CMH</td>\n",
       "      <td>Columbus, OH</td>\n",
       "      <td>...</td>\n",
       "      <td>829</td>\n",
       "      <td>1.0</td>\n",
       "      <td>0.0</td>\n",
       "      <td>2.0</td>\n",
       "      <td>0.0</td>\n",
       "      <td>41.0</td>\n",
       "      <td>NaN</td>\n",
       "      <td>NaN</td>\n",
       "      <td>NaN</td>\n",
       "      <td>NaN</td>\n",
       "    </tr>\n",
       "  </tbody>\n",
       "</table>\n",
       "<p>1 rows × 41 columns</p>\n",
       "</div>"
      ],
      "text/plain": [
       "           mkt_unique_carrier branded_code_share mkt_carrier  \\\n",
       "fl_date                                                        \n",
       "2019-08-01                 WN                 WN          WN   \n",
       "\n",
       "            mkt_carrier_fl_num op_unique_carrier tail_num  op_carrier_fl_num  \\\n",
       "fl_date                                                                        \n",
       "2019-08-01                2498                WN   N567WN               2498   \n",
       "\n",
       "            origin_airport_id origin origin_city_name  ...  distance  \\\n",
       "fl_date                                                ...             \n",
       "2019-08-01              11066    CMH     Columbus, OH  ...       829   \n",
       "\n",
       "           carrier_delay weather_delay  nas_delay  security_delay  \\\n",
       "fl_date                                                             \n",
       "2019-08-01           1.0           0.0        2.0             0.0   \n",
       "\n",
       "            late_aircraft_delay  first_dep_time  total_add_gtime  \\\n",
       "fl_date                                                            \n",
       "2019-08-01                 41.0             NaN              NaN   \n",
       "\n",
       "            longest_add_gtime  no_name  \n",
       "fl_date                                 \n",
       "2019-08-01                NaN      NaN  \n",
       "\n",
       "[1 rows x 41 columns]"
      ]
     },
     "execution_count": 121,
     "metadata": {},
     "output_type": "execute_result"
    }
   ],
   "source": [
    "df_flights.sample(1)"
   ]
  },
  {
   "cell_type": "code",
   "execution_count": 122,
   "metadata": {},
   "outputs": [],
   "source": [
    "df_features = df_flights[['mkt_unique_carrier','mkt_carrier_fl_num','origin','dest','crs_dep_time','crs_arr_time','distance','dep_delay','taxi_out','taxi_in', 'arr_delay','carrier_delay','weather_delay','nas_delay', 'security_delay','late_aircraft_delay']]"
   ]
  },
  {
   "cell_type": "code",
   "execution_count": 123,
   "metadata": {},
   "outputs": [
    {
     "data": {
      "text/plain": [
       "mkt_unique_carrier         0\n",
       "mkt_carrier_fl_num         0\n",
       "origin                     0\n",
       "dest                       0\n",
       "crs_dep_time               0\n",
       "crs_arr_time               0\n",
       "distance                   0\n",
       "dep_delay               1669\n",
       "taxi_out                1719\n",
       "taxi_in                 1767\n",
       "arr_delay               1960\n",
       "carrier_delay          81101\n",
       "weather_delay          81101\n",
       "nas_delay              81101\n",
       "security_delay         81101\n",
       "late_aircraft_delay    81101\n",
       "dtype: int64"
      ]
     },
     "execution_count": 123,
     "metadata": {},
     "output_type": "execute_result"
    }
   ],
   "source": [
    "# count null values\n",
    "df_features.isnull().sum()"
   ]
  },
  {
   "cell_type": "code",
   "execution_count": null,
   "metadata": {},
   "outputs": [],
   "source": [
    "# Let's take care of departure delay values that are null using mean value (10.585278)\n",
    "df_features['dep_delay'].fillna(df['dep_delay'].mean(), inplace=True)"
   ]
  },
  {
   "cell_type": "code",
   "execution_count": 125,
   "metadata": {},
   "outputs": [
    {
     "data": {
      "text/plain": [
       "mkt_unique_carrier         0\n",
       "mkt_carrier_fl_num         0\n",
       "origin                     0\n",
       "dest                       0\n",
       "crs_dep_time               0\n",
       "crs_arr_time               0\n",
       "distance                   0\n",
       "dep_delay                  0\n",
       "taxi_out                1719\n",
       "taxi_in                 1767\n",
       "arr_delay               1960\n",
       "carrier_delay          81101\n",
       "weather_delay          81101\n",
       "nas_delay              81101\n",
       "security_delay         81101\n",
       "late_aircraft_delay    81101\n",
       "dtype: int64"
      ]
     },
     "execution_count": 125,
     "metadata": {},
     "output_type": "execute_result"
    }
   ],
   "source": [
    "# count null values\n",
    "df_features.isnull().sum()"
   ]
  },
  {
   "cell_type": "code",
   "execution_count": 126,
   "metadata": {},
   "outputs": [
    {
     "data": {
      "text/html": [
       "<div>\n",
       "<style scoped>\n",
       "    .dataframe tbody tr th:only-of-type {\n",
       "        vertical-align: middle;\n",
       "    }\n",
       "\n",
       "    .dataframe tbody tr th {\n",
       "        vertical-align: top;\n",
       "    }\n",
       "\n",
       "    .dataframe thead th {\n",
       "        text-align: right;\n",
       "    }\n",
       "</style>\n",
       "<table border=\"1\" class=\"dataframe\">\n",
       "  <thead>\n",
       "    <tr style=\"text-align: right;\">\n",
       "      <th></th>\n",
       "      <th>crs_dep_time</th>\n",
       "      <th>crs_arr_time</th>\n",
       "      <th>distance</th>\n",
       "      <th>dep_delay</th>\n",
       "      <th>taxi_out</th>\n",
       "      <th>taxi_in</th>\n",
       "      <th>arr_delay</th>\n",
       "      <th>carrier_delay</th>\n",
       "      <th>weather_delay</th>\n",
       "      <th>nas_delay</th>\n",
       "      <th>security_delay</th>\n",
       "      <th>late_aircraft_delay</th>\n",
       "    </tr>\n",
       "  </thead>\n",
       "  <tbody>\n",
       "    <tr>\n",
       "      <th>count</th>\n",
       "      <td>100000.000000</td>\n",
       "      <td>100000.000000</td>\n",
       "      <td>100000.000000</td>\n",
       "      <td>100000.000000</td>\n",
       "      <td>98281.000000</td>\n",
       "      <td>98233.000000</td>\n",
       "      <td>98040.000000</td>\n",
       "      <td>18899.000000</td>\n",
       "      <td>18899.000000</td>\n",
       "      <td>18899.000000</td>\n",
       "      <td>18899.000000</td>\n",
       "      <td>18899.000000</td>\n",
       "    </tr>\n",
       "    <tr>\n",
       "      <th>mean</th>\n",
       "      <td>1330.118950</td>\n",
       "      <td>1483.993190</td>\n",
       "      <td>771.105830</td>\n",
       "      <td>10.585278</td>\n",
       "      <td>17.565735</td>\n",
       "      <td>7.679191</td>\n",
       "      <td>5.465239</td>\n",
       "      <td>19.802688</td>\n",
       "      <td>3.788507</td>\n",
       "      <td>16.501667</td>\n",
       "      <td>0.106619</td>\n",
       "      <td>27.593418</td>\n",
       "    </tr>\n",
       "    <tr>\n",
       "      <th>std</th>\n",
       "      <td>489.407088</td>\n",
       "      <td>516.814174</td>\n",
       "      <td>589.934162</td>\n",
       "      <td>48.588070</td>\n",
       "      <td>10.154389</td>\n",
       "      <td>6.162330</td>\n",
       "      <td>50.855428</td>\n",
       "      <td>62.464114</td>\n",
       "      <td>33.865191</td>\n",
       "      <td>37.880755</td>\n",
       "      <td>4.961265</td>\n",
       "      <td>55.970566</td>\n",
       "    </tr>\n",
       "    <tr>\n",
       "      <th>min</th>\n",
       "      <td>1.000000</td>\n",
       "      <td>1.000000</td>\n",
       "      <td>31.000000</td>\n",
       "      <td>-119.000000</td>\n",
       "      <td>0.000000</td>\n",
       "      <td>0.000000</td>\n",
       "      <td>-243.000000</td>\n",
       "      <td>0.000000</td>\n",
       "      <td>0.000000</td>\n",
       "      <td>0.000000</td>\n",
       "      <td>0.000000</td>\n",
       "      <td>0.000000</td>\n",
       "    </tr>\n",
       "    <tr>\n",
       "      <th>25%</th>\n",
       "      <td>915.000000</td>\n",
       "      <td>1100.000000</td>\n",
       "      <td>339.000000</td>\n",
       "      <td>-6.000000</td>\n",
       "      <td>11.000000</td>\n",
       "      <td>4.000000</td>\n",
       "      <td>-15.000000</td>\n",
       "      <td>0.000000</td>\n",
       "      <td>0.000000</td>\n",
       "      <td>0.000000</td>\n",
       "      <td>0.000000</td>\n",
       "      <td>0.000000</td>\n",
       "    </tr>\n",
       "    <tr>\n",
       "      <th>50%</th>\n",
       "      <td>1320.000000</td>\n",
       "      <td>1512.000000</td>\n",
       "      <td>604.000000</td>\n",
       "      <td>-2.000000</td>\n",
       "      <td>15.000000</td>\n",
       "      <td>6.000000</td>\n",
       "      <td>-6.000000</td>\n",
       "      <td>0.000000</td>\n",
       "      <td>0.000000</td>\n",
       "      <td>3.000000</td>\n",
       "      <td>0.000000</td>\n",
       "      <td>3.000000</td>\n",
       "    </tr>\n",
       "    <tr>\n",
       "      <th>75%</th>\n",
       "      <td>1735.000000</td>\n",
       "      <td>1917.000000</td>\n",
       "      <td>1005.000000</td>\n",
       "      <td>8.000000</td>\n",
       "      <td>20.000000</td>\n",
       "      <td>9.000000</td>\n",
       "      <td>8.000000</td>\n",
       "      <td>17.000000</td>\n",
       "      <td>0.000000</td>\n",
       "      <td>20.000000</td>\n",
       "      <td>0.000000</td>\n",
       "      <td>34.000000</td>\n",
       "    </tr>\n",
       "    <tr>\n",
       "      <th>max</th>\n",
       "      <td>2359.000000</td>\n",
       "      <td>2400.000000</td>\n",
       "      <td>5095.000000</td>\n",
       "      <td>2976.000000</td>\n",
       "      <td>161.000000</td>\n",
       "      <td>248.000000</td>\n",
       "      <td>2973.000000</td>\n",
       "      <td>2973.000000</td>\n",
       "      <td>1302.000000</td>\n",
       "      <td>1183.000000</td>\n",
       "      <td>636.000000</td>\n",
       "      <td>1226.000000</td>\n",
       "    </tr>\n",
       "  </tbody>\n",
       "</table>\n",
       "</div>"
      ],
      "text/plain": [
       "        crs_dep_time   crs_arr_time       distance      dep_delay  \\\n",
       "count  100000.000000  100000.000000  100000.000000  100000.000000   \n",
       "mean     1330.118950    1483.993190     771.105830      10.585278   \n",
       "std       489.407088     516.814174     589.934162      48.588070   \n",
       "min         1.000000       1.000000      31.000000    -119.000000   \n",
       "25%       915.000000    1100.000000     339.000000      -6.000000   \n",
       "50%      1320.000000    1512.000000     604.000000      -2.000000   \n",
       "75%      1735.000000    1917.000000    1005.000000       8.000000   \n",
       "max      2359.000000    2400.000000    5095.000000    2976.000000   \n",
       "\n",
       "           taxi_out       taxi_in     arr_delay  carrier_delay  weather_delay  \\\n",
       "count  98281.000000  98233.000000  98040.000000   18899.000000   18899.000000   \n",
       "mean      17.565735      7.679191      5.465239      19.802688       3.788507   \n",
       "std       10.154389      6.162330     50.855428      62.464114      33.865191   \n",
       "min        0.000000      0.000000   -243.000000       0.000000       0.000000   \n",
       "25%       11.000000      4.000000    -15.000000       0.000000       0.000000   \n",
       "50%       15.000000      6.000000     -6.000000       0.000000       0.000000   \n",
       "75%       20.000000      9.000000      8.000000      17.000000       0.000000   \n",
       "max      161.000000    248.000000   2973.000000    2973.000000    1302.000000   \n",
       "\n",
       "          nas_delay  security_delay  late_aircraft_delay  \n",
       "count  18899.000000    18899.000000         18899.000000  \n",
       "mean      16.501667        0.106619            27.593418  \n",
       "std       37.880755        4.961265            55.970566  \n",
       "min        0.000000        0.000000             0.000000  \n",
       "25%        0.000000        0.000000             0.000000  \n",
       "50%        3.000000        0.000000             3.000000  \n",
       "75%       20.000000        0.000000            34.000000  \n",
       "max     1183.000000      636.000000          1226.000000  "
      ]
     },
     "execution_count": 126,
     "metadata": {},
     "output_type": "execute_result"
    }
   ],
   "source": [
    "df_features[['crs_dep_time','crs_arr_time','distance','dep_delay','taxi_out','taxi_in', 'arr_delay','carrier_delay','weather_delay','nas_delay', 'security_delay','late_aircraft_delay']].describe()"
   ]
  },
  {
   "cell_type": "code",
   "execution_count": null,
   "metadata": {},
   "outputs": [],
   "source": []
  },
  {
   "cell_type": "markdown",
   "metadata": {},
   "source": [
    "### Feature Engineering"
   ]
  },
  {
   "cell_type": "markdown",
   "metadata": {},
   "source": [
    "Feature engineering will play a crucial role in this problems. We have only very little attributes so we need to create some features that will have some predictive power.\n",
    "\n",
    "- weather: we can use some weather API to look for the weather in time of the scheduled departure and scheduled arrival.\n",
    "- statistics (avg, mean, median, std, min, max...): we can take a look at previous delays and compute descriptive statistics\n",
    "- airports encoding: we need to think about what to do with the airports and other categorical variables\n",
    "- time of the day: the delay probably depends on the airport traffic which varies during the day.\n",
    "- airport traffic\n",
    "- unsupervised learning as feature engineering?\n",
    "- **what are the additional options?**: Think about what we could do more to improve the model."
   ]
  },
  {
   "cell_type": "markdown",
   "metadata": {},
   "source": [
    "2. Statistics"
   ]
  },
  {
   "cell_type": "code",
   "execution_count": 153,
   "metadata": {},
   "outputs": [
    {
     "data": {
      "text/html": [
       "<div>\n",
       "<style scoped>\n",
       "    .dataframe tbody tr th:only-of-type {\n",
       "        vertical-align: middle;\n",
       "    }\n",
       "\n",
       "    .dataframe tbody tr th {\n",
       "        vertical-align: top;\n",
       "    }\n",
       "\n",
       "    .dataframe thead th {\n",
       "        text-align: right;\n",
       "    }\n",
       "</style>\n",
       "<table border=\"1\" class=\"dataframe\">\n",
       "  <thead>\n",
       "    <tr style=\"text-align: right;\">\n",
       "      <th></th>\n",
       "      <th>mkt_unique_carrier</th>\n",
       "      <th>mkt_carrier_fl_num</th>\n",
       "      <th>origin</th>\n",
       "      <th>dest</th>\n",
       "      <th>crs_dep_time</th>\n",
       "      <th>crs_arr_time</th>\n",
       "      <th>distance</th>\n",
       "      <th>dep_delay</th>\n",
       "      <th>taxi_out</th>\n",
       "      <th>taxi_in</th>\n",
       "      <th>arr_delay</th>\n",
       "      <th>carrier_delay</th>\n",
       "      <th>weather_delay</th>\n",
       "      <th>nas_delay</th>\n",
       "      <th>security_delay</th>\n",
       "      <th>late_aircraft_delay</th>\n",
       "      <th>day_of_week</th>\n",
       "      <th>week_of_year</th>\n",
       "    </tr>\n",
       "  </thead>\n",
       "  <tbody>\n",
       "    <tr>\n",
       "      <th>count</th>\n",
       "      <td>100000.000000</td>\n",
       "      <td>100000.00000</td>\n",
       "      <td>100000.000000</td>\n",
       "      <td>100000.000000</td>\n",
       "      <td>100000.000000</td>\n",
       "      <td>100000.000000</td>\n",
       "      <td>100000.000000</td>\n",
       "      <td>100000.000000</td>\n",
       "      <td>98281.000000</td>\n",
       "      <td>98233.000000</td>\n",
       "      <td>98040.000000</td>\n",
       "      <td>18899.000000</td>\n",
       "      <td>18899.000000</td>\n",
       "      <td>18899.000000</td>\n",
       "      <td>18899.000000</td>\n",
       "      <td>18899.000000</td>\n",
       "      <td>100000.000000</td>\n",
       "      <td>100000.000000</td>\n",
       "    </tr>\n",
       "    <tr>\n",
       "      <th>mean</th>\n",
       "      <td>4.409550</td>\n",
       "      <td>2719.61824</td>\n",
       "      <td>181.179660</td>\n",
       "      <td>179.636450</td>\n",
       "      <td>1330.118950</td>\n",
       "      <td>1483.993190</td>\n",
       "      <td>771.105830</td>\n",
       "      <td>10.585278</td>\n",
       "      <td>17.565735</td>\n",
       "      <td>7.679191</td>\n",
       "      <td>5.465239</td>\n",
       "      <td>19.802688</td>\n",
       "      <td>3.788507</td>\n",
       "      <td>16.501667</td>\n",
       "      <td>0.106619</td>\n",
       "      <td>27.593418</td>\n",
       "      <td>2.935530</td>\n",
       "      <td>26.661710</td>\n",
       "    </tr>\n",
       "    <tr>\n",
       "      <th>std</th>\n",
       "      <td>3.789937</td>\n",
       "      <td>1852.26549</td>\n",
       "      <td>99.286836</td>\n",
       "      <td>99.885413</td>\n",
       "      <td>489.407088</td>\n",
       "      <td>516.814174</td>\n",
       "      <td>589.934162</td>\n",
       "      <td>48.588070</td>\n",
       "      <td>10.154389</td>\n",
       "      <td>6.162330</td>\n",
       "      <td>50.855428</td>\n",
       "      <td>62.464114</td>\n",
       "      <td>33.865191</td>\n",
       "      <td>37.880755</td>\n",
       "      <td>4.961265</td>\n",
       "      <td>55.970566</td>\n",
       "      <td>2.000763</td>\n",
       "      <td>14.814621</td>\n",
       "    </tr>\n",
       "    <tr>\n",
       "      <th>min</th>\n",
       "      <td>0.000000</td>\n",
       "      <td>0.00000</td>\n",
       "      <td>0.000000</td>\n",
       "      <td>0.000000</td>\n",
       "      <td>1.000000</td>\n",
       "      <td>1.000000</td>\n",
       "      <td>31.000000</td>\n",
       "      <td>-119.000000</td>\n",
       "      <td>0.000000</td>\n",
       "      <td>0.000000</td>\n",
       "      <td>-243.000000</td>\n",
       "      <td>0.000000</td>\n",
       "      <td>0.000000</td>\n",
       "      <td>0.000000</td>\n",
       "      <td>0.000000</td>\n",
       "      <td>0.000000</td>\n",
       "      <td>0.000000</td>\n",
       "      <td>1.000000</td>\n",
       "    </tr>\n",
       "    <tr>\n",
       "      <th>25%</th>\n",
       "      <td>0.000000</td>\n",
       "      <td>1114.00000</td>\n",
       "      <td>94.000000</td>\n",
       "      <td>92.000000</td>\n",
       "      <td>915.000000</td>\n",
       "      <td>1100.000000</td>\n",
       "      <td>339.000000</td>\n",
       "      <td>-6.000000</td>\n",
       "      <td>11.000000</td>\n",
       "      <td>4.000000</td>\n",
       "      <td>-15.000000</td>\n",
       "      <td>0.000000</td>\n",
       "      <td>0.000000</td>\n",
       "      <td>0.000000</td>\n",
       "      <td>0.000000</td>\n",
       "      <td>0.000000</td>\n",
       "      <td>1.000000</td>\n",
       "      <td>14.000000</td>\n",
       "    </tr>\n",
       "    <tr>\n",
       "      <th>50%</th>\n",
       "      <td>3.000000</td>\n",
       "      <td>2307.00000</td>\n",
       "      <td>192.000000</td>\n",
       "      <td>191.000000</td>\n",
       "      <td>1320.000000</td>\n",
       "      <td>1512.000000</td>\n",
       "      <td>604.000000</td>\n",
       "      <td>-2.000000</td>\n",
       "      <td>15.000000</td>\n",
       "      <td>6.000000</td>\n",
       "      <td>-6.000000</td>\n",
       "      <td>0.000000</td>\n",
       "      <td>0.000000</td>\n",
       "      <td>3.000000</td>\n",
       "      <td>0.000000</td>\n",
       "      <td>3.000000</td>\n",
       "      <td>3.000000</td>\n",
       "      <td>27.000000</td>\n",
       "    </tr>\n",
       "    <tr>\n",
       "      <th>75%</th>\n",
       "      <td>8.000000</td>\n",
       "      <td>4302.00000</td>\n",
       "      <td>264.000000</td>\n",
       "      <td>263.000000</td>\n",
       "      <td>1735.000000</td>\n",
       "      <td>1917.000000</td>\n",
       "      <td>1005.000000</td>\n",
       "      <td>8.000000</td>\n",
       "      <td>20.000000</td>\n",
       "      <td>9.000000</td>\n",
       "      <td>8.000000</td>\n",
       "      <td>17.000000</td>\n",
       "      <td>0.000000</td>\n",
       "      <td>20.000000</td>\n",
       "      <td>0.000000</td>\n",
       "      <td>34.000000</td>\n",
       "      <td>5.000000</td>\n",
       "      <td>39.000000</td>\n",
       "    </tr>\n",
       "    <tr>\n",
       "      <th>max</th>\n",
       "      <td>10.000000</td>\n",
       "      <td>6713.00000</td>\n",
       "      <td>369.000000</td>\n",
       "      <td>369.000000</td>\n",
       "      <td>2359.000000</td>\n",
       "      <td>2400.000000</td>\n",
       "      <td>5095.000000</td>\n",
       "      <td>2976.000000</td>\n",
       "      <td>161.000000</td>\n",
       "      <td>248.000000</td>\n",
       "      <td>2973.000000</td>\n",
       "      <td>2973.000000</td>\n",
       "      <td>1302.000000</td>\n",
       "      <td>1183.000000</td>\n",
       "      <td>636.000000</td>\n",
       "      <td>1226.000000</td>\n",
       "      <td>6.000000</td>\n",
       "      <td>52.000000</td>\n",
       "    </tr>\n",
       "  </tbody>\n",
       "</table>\n",
       "</div>"
      ],
      "text/plain": [
       "       mkt_unique_carrier  mkt_carrier_fl_num         origin           dest  \\\n",
       "count       100000.000000        100000.00000  100000.000000  100000.000000   \n",
       "mean             4.409550          2719.61824     181.179660     179.636450   \n",
       "std              3.789937          1852.26549      99.286836      99.885413   \n",
       "min              0.000000             0.00000       0.000000       0.000000   \n",
       "25%              0.000000          1114.00000      94.000000      92.000000   \n",
       "50%              3.000000          2307.00000     192.000000     191.000000   \n",
       "75%              8.000000          4302.00000     264.000000     263.000000   \n",
       "max             10.000000          6713.00000     369.000000     369.000000   \n",
       "\n",
       "        crs_dep_time   crs_arr_time       distance      dep_delay  \\\n",
       "count  100000.000000  100000.000000  100000.000000  100000.000000   \n",
       "mean     1330.118950    1483.993190     771.105830      10.585278   \n",
       "std       489.407088     516.814174     589.934162      48.588070   \n",
       "min         1.000000       1.000000      31.000000    -119.000000   \n",
       "25%       915.000000    1100.000000     339.000000      -6.000000   \n",
       "50%      1320.000000    1512.000000     604.000000      -2.000000   \n",
       "75%      1735.000000    1917.000000    1005.000000       8.000000   \n",
       "max      2359.000000    2400.000000    5095.000000    2976.000000   \n",
       "\n",
       "           taxi_out       taxi_in     arr_delay  carrier_delay  weather_delay  \\\n",
       "count  98281.000000  98233.000000  98040.000000   18899.000000   18899.000000   \n",
       "mean      17.565735      7.679191      5.465239      19.802688       3.788507   \n",
       "std       10.154389      6.162330     50.855428      62.464114      33.865191   \n",
       "min        0.000000      0.000000   -243.000000       0.000000       0.000000   \n",
       "25%       11.000000      4.000000    -15.000000       0.000000       0.000000   \n",
       "50%       15.000000      6.000000     -6.000000       0.000000       0.000000   \n",
       "75%       20.000000      9.000000      8.000000      17.000000       0.000000   \n",
       "max      161.000000    248.000000   2973.000000    2973.000000    1302.000000   \n",
       "\n",
       "          nas_delay  security_delay  late_aircraft_delay    day_of_week  \\\n",
       "count  18899.000000    18899.000000         18899.000000  100000.000000   \n",
       "mean      16.501667        0.106619            27.593418       2.935530   \n",
       "std       37.880755        4.961265            55.970566       2.000763   \n",
       "min        0.000000        0.000000             0.000000       0.000000   \n",
       "25%        0.000000        0.000000             0.000000       1.000000   \n",
       "50%        3.000000        0.000000             3.000000       3.000000   \n",
       "75%       20.000000        0.000000            34.000000       5.000000   \n",
       "max     1183.000000      636.000000          1226.000000       6.000000   \n",
       "\n",
       "        week_of_year  \n",
       "count  100000.000000  \n",
       "mean       26.661710  \n",
       "std        14.814621  \n",
       "min         1.000000  \n",
       "25%        14.000000  \n",
       "50%        27.000000  \n",
       "75%        39.000000  \n",
       "max        52.000000  "
      ]
     },
     "execution_count": 153,
     "metadata": {},
     "output_type": "execute_result"
    }
   ],
   "source": [
    "df_features.describe()"
   ]
  },
  {
   "attachments": {},
   "cell_type": "markdown",
   "metadata": {},
   "source": [
    "3. Converting certain alpha numeric columns to numeric using categorical encoding"
   ]
  },
  {
   "cell_type": "code",
   "execution_count": 154,
   "metadata": {},
   "outputs": [],
   "source": [
    "df_features['origin'] = df_features['origin'].astype('category')\n",
    "df_features['origin'] = df_features['origin'].cat.codes\n",
    "df_features['dest'] = df_features['dest'].astype('category')\n",
    "df_features['dest'] = df_features['dest'].cat.codes\n",
    "df_features['mkt_unique_carrier'] = df_features['mkt_unique_carrier'].astype('category')\n",
    "df_features['mkt_unique_carrier'] = df_features['mkt_unique_carrier'].cat.codes\n",
    "df_features['mkt_carrier_fl_num'] = df_features['mkt_carrier_fl_num'].astype('category')\n",
    "df_features['mkt_carrier_fl_num'] = df_features['mkt_carrier_fl_num'].cat.codes"
   ]
  },
  {
   "cell_type": "markdown",
   "metadata": {},
   "source": [
    "4. Time of the day"
   ]
  },
  {
   "cell_type": "code",
   "execution_count": null,
   "metadata": {},
   "outputs": [],
   "source": [
    "# convert index to datetime\n",
    "df_features.index = pd.to_datetime(df_features.index)\n",
    "\n",
    "# from df_features.index create a new column with the day of the week (0 = Monday, 6 = Sunday)\n",
    "df_features['day_of_week'] = df_features.index.dayofweek\n",
    "\n",
    "df_features['week_of_year'] = df_features.index.weekofyear"
   ]
  },
  {
   "cell_type": "code",
   "execution_count": 129,
   "metadata": {},
   "outputs": [],
   "source": [
    "X = df_features[['mkt_unique_carrier','mkt_carrier_fl_num','origin','dest','crs_dep_time','crs_arr_time','distance']]"
   ]
  },
  {
   "cell_type": "code",
   "execution_count": 160,
   "metadata": {},
   "outputs": [],
   "source": [
    "X = df_features[['origin', 'dest', 'crs_dep_time','crs_arr_time','distance']]\n",
    "y = df_features['dep_delay']\n",
    "X_train, X_test, y_train, y_test = train_test_split(X, y, train_size=0.8, test_size=0.2, random_state = 646)"
   ]
  },
  {
   "cell_type": "markdown",
   "metadata": {},
   "source": [
    "### Feature Selection / Dimensionality Reduction"
   ]
  },
  {
   "cell_type": "markdown",
   "metadata": {},
   "source": [
    "We need to apply different selection techniques to find out which one will be the best for our problems.\n",
    "\n",
    "- Original Features vs. PCA conponents?"
   ]
  },
  {
   "cell_type": "code",
   "execution_count": null,
   "metadata": {},
   "outputs": [],
   "source": []
  },
  {
   "cell_type": "code",
   "execution_count": null,
   "metadata": {},
   "outputs": [],
   "source": []
  },
  {
   "cell_type": "code",
   "execution_count": null,
   "metadata": {},
   "outputs": [],
   "source": []
  },
  {
   "cell_type": "code",
   "execution_count": null,
   "metadata": {},
   "outputs": [],
   "source": []
  },
  {
   "cell_type": "code",
   "execution_count": null,
   "metadata": {},
   "outputs": [],
   "source": []
  },
  {
   "cell_type": "markdown",
   "metadata": {},
   "source": [
    "### Modeling"
   ]
  },
  {
   "cell_type": "markdown",
   "metadata": {},
   "source": [
    "Use different ML techniques to predict each problem.\n",
    "\n",
    "- linear / logistic / multinomial logistic regression\n",
    "- Naive Bayes\n",
    "- Random Forest\n",
    "- SVM\n",
    "- XGBoost\n",
    "- The ensemble of your own choice"
   ]
  },
  {
   "cell_type": "markdown",
   "metadata": {},
   "source": [
    "Linear Regression"
   ]
  },
  {
   "cell_type": "code",
   "execution_count": 158,
   "metadata": {},
   "outputs": [],
   "source": [
    "lr = LinearRegression()\n",
    "lr.fit(X_train, y_train)\n",
    "y_pred = lr.predict(X_test)"
   ]
  },
  {
   "cell_type": "code",
   "execution_count": 159,
   "metadata": {},
   "outputs": [
    {
     "name": "stdout",
     "output_type": "stream",
     "text": [
      "R-squared: 0.010354918107392974\n",
      "Mean squared error: 2334.56103456066\n",
      "Mean absolute error: 21.093920766343967\n"
     ]
    }
   ],
   "source": [
    "# Evaluate the model performance\n",
    "r2 = r2_score(y_test, y_pred)\n",
    "mse = mean_squared_error(y_test, y_pred)\n",
    "mae = mean_absolute_error(y_test, y_pred)\n",
    "\n",
    "print('R-squared:', r2)\n",
    "print('Mean squared error:', mse)\n",
    "print('Mean absolute error:', mae)"
   ]
  },
  {
   "attachments": {},
   "cell_type": "markdown",
   "metadata": {},
   "source": [
    "Random Forest"
   ]
  },
  {
   "cell_type": "code",
   "execution_count": 166,
   "metadata": {},
   "outputs": [
    {
     "data": {
      "text/plain": [
       "RandomForestRegressor(max_depth=10, random_state=42)"
      ]
     },
     "execution_count": 166,
     "metadata": {},
     "output_type": "execute_result"
    }
   ],
   "source": [
    "rf = RandomForestRegressor(n_estimators=100, max_depth=10, random_state=42)\n",
    "rf.fit(X_train, y_train)"
   ]
  },
  {
   "cell_type": "code",
   "execution_count": 167,
   "metadata": {},
   "outputs": [
    {
     "name": "stdout",
     "output_type": "stream",
     "text": [
      "R-squared: -0.0033714744660608975\n",
      "Mean squared error: 2366.941432173292\n"
     ]
    }
   ],
   "source": [
    "y_pred = rf.predict(X_test)\n",
    "\n",
    "# Evaluate the model performance\n",
    "r2 = r2_score(y_test, y_pred)\n",
    "mse = mean_squared_error(y_test, y_pred)\n",
    "\n",
    "print('R-squared:', r2)\n",
    "print('Mean squared error:', mse)"
   ]
  },
  {
   "cell_type": "code",
   "execution_count": null,
   "metadata": {},
   "outputs": [],
   "source": []
  },
  {
   "cell_type": "markdown",
   "metadata": {},
   "source": [
    "### Evaluation"
   ]
  },
  {
   "cell_type": "markdown",
   "metadata": {},
   "source": [
    "You have data from 2018 and 2019 to develop models. Use different evaluation metrics for each problem and compare the performance of different models.\n",
    "\n",
    "You are required to predict delays on **out of sample** data from **first 7 days (1st-7th) of January 2020** and to share the file with LighthouseLabs. Sample submission can be found in the file **_sample_submission.csv_**"
   ]
  },
  {
   "cell_type": "code",
   "execution_count": null,
   "metadata": {},
   "outputs": [],
   "source": []
  },
  {
   "cell_type": "code",
   "execution_count": null,
   "metadata": {},
   "outputs": [],
   "source": []
  },
  {
   "cell_type": "code",
   "execution_count": null,
   "metadata": {},
   "outputs": [],
   "source": []
  },
  {
   "cell_type": "code",
   "execution_count": null,
   "metadata": {},
   "outputs": [],
   "source": []
  },
  {
   "cell_type": "markdown",
   "metadata": {},
   "source": [
    "======================================================================\n",
    "## Stretch Tasks"
   ]
  },
  {
   "cell_type": "markdown",
   "metadata": {},
   "source": [
    "### Multiclass Classification"
   ]
  },
  {
   "cell_type": "markdown",
   "metadata": {},
   "source": [
    "The target variables are **CARRIER_DELAY, WEATHER_DELAY, NAS_DELAY, SECURITY_DELAY, LATE_AIRCRAFT_DELAY**. We need to do additional transformations because these variables are not binary but continuos. For each flight that was delayed, we need to have one of these variables as 1 and others 0.\n",
    "\n",
    "It can happen that we have two types of delays with more than 0 minutes. In this case, take the bigger one as 1 and others as 0."
   ]
  },
  {
   "cell_type": "code",
   "execution_count": null,
   "metadata": {},
   "outputs": [],
   "source": []
  },
  {
   "cell_type": "code",
   "execution_count": null,
   "metadata": {},
   "outputs": [],
   "source": []
  },
  {
   "cell_type": "code",
   "execution_count": null,
   "metadata": {},
   "outputs": [],
   "source": []
  },
  {
   "cell_type": "markdown",
   "metadata": {},
   "source": [
    "### Binary Classification"
   ]
  },
  {
   "cell_type": "markdown",
   "metadata": {},
   "source": [
    "The target variable is **CANCELLED**. The main problem here is going to be huge class imbalance. We have only very little cancelled flights with comparison to all flights. It is important to do the right sampling before training and to choose correct evaluation metrics."
   ]
  },
  {
   "cell_type": "code",
   "execution_count": null,
   "metadata": {},
   "outputs": [],
   "source": []
  },
  {
   "cell_type": "code",
   "execution_count": null,
   "metadata": {},
   "outputs": [],
   "source": []
  },
  {
   "cell_type": "code",
   "execution_count": null,
   "metadata": {},
   "outputs": [],
   "source": []
  }
 ],
 "metadata": {
  "kernelspec": {
   "display_name": "test_env",
   "language": "python",
   "name": "test_env"
  },
  "language_info": {
   "codemirror_mode": {
    "name": "ipython",
    "version": 3
   },
   "file_extension": ".py",
   "mimetype": "text/x-python",
   "name": "python",
   "nbconvert_exporter": "python",
   "pygments_lexer": "ipython3",
   "version": "3.9.13"
  }
 },
 "nbformat": 4,
 "nbformat_minor": 4
}
