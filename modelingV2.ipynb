{
 "cells": [
  {
   "cell_type": "markdown",
   "metadata": {},
   "source": [
    "# Machine Learning\n",
    "\n",
    "In this file, instructions how to approach the challenge can be found."
   ]
  },
  {
   "cell_type": "markdown",
   "metadata": {},
   "source": [
    "We are going to work on different types of Machine Learning problems:\n",
    "\n",
    "- **Regression Problem**: The goal is to predict delay of flights.\n",
    "- **(Stretch) Multiclass Classification**: If the plane was delayed, we will predict what type of delay it is (will be).\n",
    "- **(Stretch) Binary Classification**: The goal is to predict if the flight will be cancelled."
   ]
  },
  {
   "cell_type": "code",
   "execution_count": 1,
   "metadata": {},
   "outputs": [],
   "source": [
    "import pandas as pd\n",
    "import numpy as np\n",
    "import matplotlib.pyplot as plt\n",
    "import seaborn as sns"
   ]
  },
  {
   "cell_type": "markdown",
   "metadata": {},
   "source": [
    "## Main Task: Regression Problem"
   ]
  },
  {
   "cell_type": "markdown",
   "metadata": {},
   "source": [
    "The target variable is **ARR_DELAY**. We need to be careful which columns to use and which don't. For example, DEP_DELAY is going to be the perfect predictor, but we can't use it because in real-life scenario, we want to predict the delay before the flight takes of --> We can use average delay from earlier days but not the one from the actual flight we predict.  \n",
    "\n",
    "For example, variables **CARRIER_DELAY, WEATHER_DELAY, NAS_DELAY, SECURITY_DELAY, LATE_AIRCRAFT_DELAY** shouldn't be used directly as predictors as well. However, we can create various transformations from earlier values.\n",
    "\n",
    "We will be evaluating your models by predicting the ARR_DELAY for all flights **1 week in advance**."
   ]
  },
  {
   "cell_type": "code",
   "execution_count": 3,
   "metadata": {},
   "outputs": [],
   "source": [
    "df_flights = pd.read_csv('Data/flightsV2.csv')"
   ]
  },
  {
   "cell_type": "code",
   "execution_count": null,
   "metadata": {},
   "outputs": [],
   "source": [
    "df_flights"
   ]
  },
  {
   "cell_type": "code",
   "execution_count": 4,
   "metadata": {},
   "outputs": [
    {
     "data": {
      "text/plain": [
       "Index(['fl_date', 'mkt_unique_carrier', 'branded_code_share', 'mkt_carrier',\n",
       "       'mkt_carrier_fl_num', 'op_unique_carrier', 'tail_num',\n",
       "       'op_carrier_fl_num', 'origin_airport_id', 'origin', 'origin_city_name',\n",
       "       'dest_airport_id', 'dest', 'dest_city_name', 'crs_dep_time',\n",
       "       'crs_arr_time', 'dup', 'crs_elapsed_time', 'flights', 'distance',\n",
       "       'arr_delay'],\n",
       "      dtype='object')"
      ]
     },
     "execution_count": 4,
     "metadata": {},
     "output_type": "execute_result"
    }
   ],
   "source": [
    "df_flights.columns"
   ]
  },
  {
   "cell_type": "code",
   "execution_count": 5,
   "metadata": {},
   "outputs": [],
   "source": [
    "## Drop some columns we do not need\n",
    "df_flights.drop(columns = ['branded_code_share', 'mkt_unique_carrier', 'mkt_carrier', 'mkt_carrier_fl_num', 'op_unique_carrier', 'op_carrier_fl_num', 'dup'], inplace = True)"
   ]
  },
  {
   "cell_type": "code",
   "execution_count": 6,
   "metadata": {},
   "outputs": [
    {
     "data": {
      "text/plain": [
       "fl_date                 0\n",
       "tail_num              316\n",
       "origin_airport_id       0\n",
       "origin                  0\n",
       "origin_city_name        0\n",
       "dest_airport_id         0\n",
       "dest                    0\n",
       "dest_city_name          0\n",
       "crs_dep_time            0\n",
       "crs_arr_time            0\n",
       "crs_elapsed_time        0\n",
       "flights                 0\n",
       "distance                0\n",
       "arr_delay            1960\n",
       "dtype: int64"
      ]
     },
     "execution_count": 6,
     "metadata": {},
     "output_type": "execute_result"
    }
   ],
   "source": [
    "df_flights.isnull().sum()"
   ]
  },
  {
   "cell_type": "code",
   "execution_count": 7,
   "metadata": {},
   "outputs": [],
   "source": [
    "## Only a small fraction of data is missing so we will just drop those rows instead of trying to impute\n",
    "df_flights.dropna(inplace = True)"
   ]
  },
  {
   "cell_type": "code",
   "execution_count": 8,
   "metadata": {},
   "outputs": [
    {
     "data": {
      "text/html": [
       "<div>\n",
       "<style scoped>\n",
       "    .dataframe tbody tr th:only-of-type {\n",
       "        vertical-align: middle;\n",
       "    }\n",
       "\n",
       "    .dataframe tbody tr th {\n",
       "        vertical-align: top;\n",
       "    }\n",
       "\n",
       "    .dataframe thead th {\n",
       "        text-align: right;\n",
       "    }\n",
       "</style>\n",
       "<table border=\"1\" class=\"dataframe\">\n",
       "  <thead>\n",
       "    <tr style=\"text-align: right;\">\n",
       "      <th></th>\n",
       "      <th>fl_date</th>\n",
       "      <th>tail_num</th>\n",
       "      <th>origin_airport_id</th>\n",
       "      <th>origin</th>\n",
       "      <th>origin_city_name</th>\n",
       "      <th>dest_airport_id</th>\n",
       "      <th>dest</th>\n",
       "      <th>dest_city_name</th>\n",
       "      <th>crs_dep_time</th>\n",
       "      <th>crs_arr_time</th>\n",
       "      <th>crs_elapsed_time</th>\n",
       "      <th>flights</th>\n",
       "      <th>distance</th>\n",
       "      <th>arr_delay</th>\n",
       "    </tr>\n",
       "  </thead>\n",
       "  <tbody>\n",
       "    <tr>\n",
       "      <th>1</th>\n",
       "      <td>2019-04-30</td>\n",
       "      <td>N943SW</td>\n",
       "      <td>11413</td>\n",
       "      <td>DRO</td>\n",
       "      <td>Durango, CO</td>\n",
       "      <td>11292</td>\n",
       "      <td>DEN</td>\n",
       "      <td>Denver, CO</td>\n",
       "      <td>1130</td>\n",
       "      <td>1244</td>\n",
       "      <td>74</td>\n",
       "      <td>1</td>\n",
       "      <td>250</td>\n",
       "      <td>7.0</td>\n",
       "    </tr>\n",
       "    <tr>\n",
       "      <th>2</th>\n",
       "      <td>2018-12-25</td>\n",
       "      <td>N87337</td>\n",
       "      <td>11140</td>\n",
       "      <td>CRP</td>\n",
       "      <td>Corpus Christi, TX</td>\n",
       "      <td>12266</td>\n",
       "      <td>IAH</td>\n",
       "      <td>Houston, TX</td>\n",
       "      <td>535</td>\n",
       "      <td>637</td>\n",
       "      <td>62</td>\n",
       "      <td>1</td>\n",
       "      <td>201</td>\n",
       "      <td>-4.0</td>\n",
       "    </tr>\n",
       "    <tr>\n",
       "      <th>3</th>\n",
       "      <td>2018-11-28</td>\n",
       "      <td>N966AT</td>\n",
       "      <td>11433</td>\n",
       "      <td>DTW</td>\n",
       "      <td>Detroit, MI</td>\n",
       "      <td>11996</td>\n",
       "      <td>GSP</td>\n",
       "      <td>Greer, SC</td>\n",
       "      <td>2140</td>\n",
       "      <td>2335</td>\n",
       "      <td>115</td>\n",
       "      <td>1</td>\n",
       "      <td>508</td>\n",
       "      <td>-33.0</td>\n",
       "    </tr>\n",
       "    <tr>\n",
       "      <th>4</th>\n",
       "      <td>2018-05-06</td>\n",
       "      <td>N726YX</td>\n",
       "      <td>12953</td>\n",
       "      <td>LGA</td>\n",
       "      <td>New York, NY</td>\n",
       "      <td>13930</td>\n",
       "      <td>ORD</td>\n",
       "      <td>Chicago, IL</td>\n",
       "      <td>1929</td>\n",
       "      <td>2112</td>\n",
       "      <td>163</td>\n",
       "      <td>1</td>\n",
       "      <td>733</td>\n",
       "      <td>-13.0</td>\n",
       "    </tr>\n",
       "    <tr>\n",
       "      <th>5</th>\n",
       "      <td>2018-11-14</td>\n",
       "      <td>N913EV</td>\n",
       "      <td>10397</td>\n",
       "      <td>ATL</td>\n",
       "      <td>Atlanta, GA</td>\n",
       "      <td>10990</td>\n",
       "      <td>CHO</td>\n",
       "      <td>Charlottesville, VA</td>\n",
       "      <td>1008</td>\n",
       "      <td>1145</td>\n",
       "      <td>97</td>\n",
       "      <td>1</td>\n",
       "      <td>457</td>\n",
       "      <td>-15.0</td>\n",
       "    </tr>\n",
       "    <tr>\n",
       "      <th>...</th>\n",
       "      <td>...</td>\n",
       "      <td>...</td>\n",
       "      <td>...</td>\n",
       "      <td>...</td>\n",
       "      <td>...</td>\n",
       "      <td>...</td>\n",
       "      <td>...</td>\n",
       "      <td>...</td>\n",
       "      <td>...</td>\n",
       "      <td>...</td>\n",
       "      <td>...</td>\n",
       "      <td>...</td>\n",
       "      <td>...</td>\n",
       "      <td>...</td>\n",
       "    </tr>\n",
       "    <tr>\n",
       "      <th>99995</th>\n",
       "      <td>2019-08-11</td>\n",
       "      <td>N434YX</td>\n",
       "      <td>14730</td>\n",
       "      <td>SDF</td>\n",
       "      <td>Louisville, KY</td>\n",
       "      <td>13303</td>\n",
       "      <td>MIA</td>\n",
       "      <td>Miami, FL</td>\n",
       "      <td>700</td>\n",
       "      <td>935</td>\n",
       "      <td>155</td>\n",
       "      <td>1</td>\n",
       "      <td>910</td>\n",
       "      <td>-13.0</td>\n",
       "    </tr>\n",
       "    <tr>\n",
       "      <th>99996</th>\n",
       "      <td>2018-08-10</td>\n",
       "      <td>N272PQ</td>\n",
       "      <td>10721</td>\n",
       "      <td>BOS</td>\n",
       "      <td>Boston, MA</td>\n",
       "      <td>11193</td>\n",
       "      <td>CVG</td>\n",
       "      <td>Cincinnati, OH</td>\n",
       "      <td>540</td>\n",
       "      <td>758</td>\n",
       "      <td>138</td>\n",
       "      <td>1</td>\n",
       "      <td>752</td>\n",
       "      <td>47.0</td>\n",
       "    </tr>\n",
       "    <tr>\n",
       "      <th>99997</th>\n",
       "      <td>2019-04-02</td>\n",
       "      <td>N925XJ</td>\n",
       "      <td>11298</td>\n",
       "      <td>DFW</td>\n",
       "      <td>Dallas/Fort Worth, TX</td>\n",
       "      <td>11193</td>\n",
       "      <td>CVG</td>\n",
       "      <td>Cincinnati, OH</td>\n",
       "      <td>1550</td>\n",
       "      <td>1900</td>\n",
       "      <td>130</td>\n",
       "      <td>1</td>\n",
       "      <td>812</td>\n",
       "      <td>-20.0</td>\n",
       "    </tr>\n",
       "    <tr>\n",
       "      <th>99998</th>\n",
       "      <td>2019-09-21</td>\n",
       "      <td>N654RW</td>\n",
       "      <td>11057</td>\n",
       "      <td>CLT</td>\n",
       "      <td>Charlotte, NC</td>\n",
       "      <td>11618</td>\n",
       "      <td>EWR</td>\n",
       "      <td>Newark, NJ</td>\n",
       "      <td>1625</td>\n",
       "      <td>1829</td>\n",
       "      <td>124</td>\n",
       "      <td>1</td>\n",
       "      <td>529</td>\n",
       "      <td>-11.0</td>\n",
       "    </tr>\n",
       "    <tr>\n",
       "      <th>99999</th>\n",
       "      <td>2019-05-19</td>\n",
       "      <td>N674NK</td>\n",
       "      <td>12953</td>\n",
       "      <td>LGA</td>\n",
       "      <td>New York, NY</td>\n",
       "      <td>11298</td>\n",
       "      <td>DFW</td>\n",
       "      <td>Dallas/Fort Worth, TX</td>\n",
       "      <td>1350</td>\n",
       "      <td>1647</td>\n",
       "      <td>237</td>\n",
       "      <td>1</td>\n",
       "      <td>1389</td>\n",
       "      <td>21.0</td>\n",
       "    </tr>\n",
       "  </tbody>\n",
       "</table>\n",
       "<p>98040 rows × 14 columns</p>\n",
       "</div>"
      ],
      "text/plain": [
       "          fl_date tail_num  origin_airport_id origin       origin_city_name  \\\n",
       "1      2019-04-30   N943SW              11413    DRO            Durango, CO   \n",
       "2      2018-12-25   N87337              11140    CRP     Corpus Christi, TX   \n",
       "3      2018-11-28   N966AT              11433    DTW            Detroit, MI   \n",
       "4      2018-05-06   N726YX              12953    LGA           New York, NY   \n",
       "5      2018-11-14   N913EV              10397    ATL            Atlanta, GA   \n",
       "...           ...      ...                ...    ...                    ...   \n",
       "99995  2019-08-11   N434YX              14730    SDF         Louisville, KY   \n",
       "99996  2018-08-10   N272PQ              10721    BOS             Boston, MA   \n",
       "99997  2019-04-02   N925XJ              11298    DFW  Dallas/Fort Worth, TX   \n",
       "99998  2019-09-21   N654RW              11057    CLT          Charlotte, NC   \n",
       "99999  2019-05-19   N674NK              12953    LGA           New York, NY   \n",
       "\n",
       "       dest_airport_id dest         dest_city_name  crs_dep_time  \\\n",
       "1                11292  DEN             Denver, CO          1130   \n",
       "2                12266  IAH            Houston, TX           535   \n",
       "3                11996  GSP              Greer, SC          2140   \n",
       "4                13930  ORD            Chicago, IL          1929   \n",
       "5                10990  CHO    Charlottesville, VA          1008   \n",
       "...                ...  ...                    ...           ...   \n",
       "99995            13303  MIA              Miami, FL           700   \n",
       "99996            11193  CVG         Cincinnati, OH           540   \n",
       "99997            11193  CVG         Cincinnati, OH          1550   \n",
       "99998            11618  EWR             Newark, NJ          1625   \n",
       "99999            11298  DFW  Dallas/Fort Worth, TX          1350   \n",
       "\n",
       "       crs_arr_time  crs_elapsed_time  flights  distance  arr_delay  \n",
       "1              1244                74        1       250        7.0  \n",
       "2               637                62        1       201       -4.0  \n",
       "3              2335               115        1       508      -33.0  \n",
       "4              2112               163        1       733      -13.0  \n",
       "5              1145                97        1       457      -15.0  \n",
       "...             ...               ...      ...       ...        ...  \n",
       "99995           935               155        1       910      -13.0  \n",
       "99996           758               138        1       752       47.0  \n",
       "99997          1900               130        1       812      -20.0  \n",
       "99998          1829               124        1       529      -11.0  \n",
       "99999          1647               237        1      1389       21.0  \n",
       "\n",
       "[98040 rows x 14 columns]"
      ]
     },
     "execution_count": 8,
     "metadata": {},
     "output_type": "execute_result"
    }
   ],
   "source": [
    "df_flights"
   ]
  },
  {
   "cell_type": "markdown",
   "metadata": {},
   "source": [
    "### Feature Engineering"
   ]
  },
  {
   "cell_type": "markdown",
   "metadata": {},
   "source": [
    "Feature engineering will play a crucial role in this problems. We have only very little attributes so we need to create some features that will have some predictive power.\n",
    "\n",
    "- weather: we can use some weather API to look for the weather in time of the scheduled departure and scheduled arrival.\n",
    "- statistics (avg, mean, median, std, min, max...): we can take a look at previous delays and compute descriptive statistics\n",
    "- airports encoding: we need to think about what to do with the airports and other categorical variables\n",
    "- time of the day: the delay probably depends on the airport traffic which varies during the day.\n",
    "- airport traffic\n",
    "- unsupervised learning as feature engineering?\n",
    "- **what are the additional options?**: Think about what we could do more to improve the model."
   ]
  },
  {
   "cell_type": "code",
   "execution_count": 9,
   "metadata": {},
   "outputs": [],
   "source": [
    "## Add Month and Day columns\n",
    "df_flights['fl_date'] = pd.to_datetime(df_flights['fl_date'])\n",
    "\n",
    "df_flights['month'] = df_flights['fl_date'].dt.month\n",
    "df_flights['day'] = df_flights['fl_date'].dt.day"
   ]
  },
  {
   "cell_type": "code",
   "execution_count": 10,
   "metadata": {},
   "outputs": [],
   "source": [
    "## Drop flights column\n",
    "df_flights.drop(columns = 'flights', inplace = True)"
   ]
  },
  {
   "cell_type": "code",
   "execution_count": 11,
   "metadata": {},
   "outputs": [
    {
     "data": {
      "text/html": [
       "<div>\n",
       "<style scoped>\n",
       "    .dataframe tbody tr th:only-of-type {\n",
       "        vertical-align: middle;\n",
       "    }\n",
       "\n",
       "    .dataframe tbody tr th {\n",
       "        vertical-align: top;\n",
       "    }\n",
       "\n",
       "    .dataframe thead th {\n",
       "        text-align: right;\n",
       "    }\n",
       "</style>\n",
       "<table border=\"1\" class=\"dataframe\">\n",
       "  <thead>\n",
       "    <tr style=\"text-align: right;\">\n",
       "      <th></th>\n",
       "      <th>fl_date</th>\n",
       "      <th>tail_num</th>\n",
       "      <th>origin_airport_id</th>\n",
       "      <th>origin</th>\n",
       "      <th>origin_city_name</th>\n",
       "      <th>dest_airport_id</th>\n",
       "      <th>dest</th>\n",
       "      <th>dest_city_name</th>\n",
       "      <th>crs_dep_time</th>\n",
       "      <th>crs_arr_time</th>\n",
       "      <th>crs_elapsed_time</th>\n",
       "      <th>distance</th>\n",
       "      <th>arr_delay</th>\n",
       "      <th>month</th>\n",
       "      <th>day</th>\n",
       "    </tr>\n",
       "  </thead>\n",
       "  <tbody>\n",
       "    <tr>\n",
       "      <th>1</th>\n",
       "      <td>2019-04-30</td>\n",
       "      <td>N943SW</td>\n",
       "      <td>11413</td>\n",
       "      <td>DRO</td>\n",
       "      <td>Durango, CO</td>\n",
       "      <td>11292</td>\n",
       "      <td>DEN</td>\n",
       "      <td>Denver, CO</td>\n",
       "      <td>1130</td>\n",
       "      <td>1244</td>\n",
       "      <td>74</td>\n",
       "      <td>250</td>\n",
       "      <td>7.0</td>\n",
       "      <td>4</td>\n",
       "      <td>30</td>\n",
       "    </tr>\n",
       "    <tr>\n",
       "      <th>2</th>\n",
       "      <td>2018-12-25</td>\n",
       "      <td>N87337</td>\n",
       "      <td>11140</td>\n",
       "      <td>CRP</td>\n",
       "      <td>Corpus Christi, TX</td>\n",
       "      <td>12266</td>\n",
       "      <td>IAH</td>\n",
       "      <td>Houston, TX</td>\n",
       "      <td>535</td>\n",
       "      <td>637</td>\n",
       "      <td>62</td>\n",
       "      <td>201</td>\n",
       "      <td>-4.0</td>\n",
       "      <td>12</td>\n",
       "      <td>25</td>\n",
       "    </tr>\n",
       "    <tr>\n",
       "      <th>3</th>\n",
       "      <td>2018-11-28</td>\n",
       "      <td>N966AT</td>\n",
       "      <td>11433</td>\n",
       "      <td>DTW</td>\n",
       "      <td>Detroit, MI</td>\n",
       "      <td>11996</td>\n",
       "      <td>GSP</td>\n",
       "      <td>Greer, SC</td>\n",
       "      <td>2140</td>\n",
       "      <td>2335</td>\n",
       "      <td>115</td>\n",
       "      <td>508</td>\n",
       "      <td>-33.0</td>\n",
       "      <td>11</td>\n",
       "      <td>28</td>\n",
       "    </tr>\n",
       "  </tbody>\n",
       "</table>\n",
       "</div>"
      ],
      "text/plain": [
       "     fl_date tail_num  origin_airport_id origin    origin_city_name  \\\n",
       "1 2019-04-30   N943SW              11413    DRO         Durango, CO   \n",
       "2 2018-12-25   N87337              11140    CRP  Corpus Christi, TX   \n",
       "3 2018-11-28   N966AT              11433    DTW         Detroit, MI   \n",
       "\n",
       "   dest_airport_id dest dest_city_name  crs_dep_time  crs_arr_time  \\\n",
       "1            11292  DEN     Denver, CO          1130          1244   \n",
       "2            12266  IAH    Houston, TX           535           637   \n",
       "3            11996  GSP      Greer, SC          2140          2335   \n",
       "\n",
       "   crs_elapsed_time  distance  arr_delay  month  day  \n",
       "1                74       250        7.0      4   30  \n",
       "2                62       201       -4.0     12   25  \n",
       "3               115       508      -33.0     11   28  "
      ]
     },
     "execution_count": 11,
     "metadata": {},
     "output_type": "execute_result"
    }
   ],
   "source": [
    "df_flights.head(3)"
   ]
  },
  {
   "cell_type": "markdown",
   "metadata": {},
   "source": [
    "Lets Encode tail_num, origin airport and destination airport using average arrival delay for each of those airports"
   ]
  },
  {
   "cell_type": "code",
   "execution_count": 12,
   "metadata": {},
   "outputs": [],
   "source": [
    "## Encode tail_num, origin airport and destination airport using mean arrival delay\n",
    "df_tail = df_flights[['tail_num', 'arr_delay']]\n",
    "df_origin = df_flights[['origin', 'arr_delay']]\n",
    "df_dest = df_flights[['dest', 'arr_delay']]"
   ]
  },
  {
   "cell_type": "code",
   "execution_count": 13,
   "metadata": {},
   "outputs": [],
   "source": [
    "df_tail = df_tail.groupby('tail_num', as_index = False).mean()\n",
    "df_origin = df_origin.groupby('origin', as_index = False).mean()\n",
    "df_dest = df_dest.groupby('dest', as_index = False).mean()"
   ]
  },
  {
   "cell_type": "code",
   "execution_count": 14,
   "metadata": {},
   "outputs": [],
   "source": [
    "## Convert to dictionaries so we can use them to replace values \n",
    "dic_tail = df_tail.set_index('tail_num').to_dict()['arr_delay']\n",
    "dic_origin = df_origin.set_index('origin').to_dict()['arr_delay']\n",
    "dic_dest = df_dest.set_index('dest').to_dict()['arr_delay']"
   ]
  },
  {
   "cell_type": "code",
   "execution_count": null,
   "metadata": {},
   "outputs": [],
   "source": []
  },
  {
   "cell_type": "code",
   "execution_count": null,
   "metadata": {},
   "outputs": [],
   "source": [
    "## Create dataframe with features we want to use for modelling\n",
    "df_model = df_flights[['tail_num', 'origin', 'dest', 'crs_dep_time', 'crs_arr_time', 'crs_elapsed_time', 'distance', 'arr_delay', 'month', 'day']]\n",
    "df_model['tail_num'].replace(dic_tail, inplace = True)\n",
    "df_model['origin'].replace(dic_origin, inplace = True)\n",
    "df_model['dest'].replace(dic_dest, inplace = True)"
   ]
  },
  {
   "cell_type": "code",
   "execution_count": 19,
   "metadata": {},
   "outputs": [],
   "source": [
    "df_model = df_model.rename(columns = {'tail_num':'avg_delay_tail_num', 'origin':'avg_delay_origin', 'dest':'avg_delay_dest'})"
   ]
  },
  {
   "cell_type": "code",
   "execution_count": 20,
   "metadata": {},
   "outputs": [
    {
     "data": {
      "text/html": [
       "<div>\n",
       "<style scoped>\n",
       "    .dataframe tbody tr th:only-of-type {\n",
       "        vertical-align: middle;\n",
       "    }\n",
       "\n",
       "    .dataframe tbody tr th {\n",
       "        vertical-align: top;\n",
       "    }\n",
       "\n",
       "    .dataframe thead th {\n",
       "        text-align: right;\n",
       "    }\n",
       "</style>\n",
       "<table border=\"1\" class=\"dataframe\">\n",
       "  <thead>\n",
       "    <tr style=\"text-align: right;\">\n",
       "      <th></th>\n",
       "      <th>avg_delay_tail_num</th>\n",
       "      <th>avg_delay_origin</th>\n",
       "      <th>avg_delay_dest</th>\n",
       "      <th>crs_dep_time</th>\n",
       "      <th>crs_arr_time</th>\n",
       "      <th>crs_elapsed_time</th>\n",
       "      <th>distance</th>\n",
       "      <th>arr_delay</th>\n",
       "      <th>month</th>\n",
       "      <th>day</th>\n",
       "    </tr>\n",
       "  </thead>\n",
       "  <tbody>\n",
       "    <tr>\n",
       "      <th>1</th>\n",
       "      <td>2.296296</td>\n",
       "      <td>2.854545</td>\n",
       "      <td>5.988561</td>\n",
       "      <td>1130</td>\n",
       "      <td>1244</td>\n",
       "      <td>74</td>\n",
       "      <td>250</td>\n",
       "      <td>7.0</td>\n",
       "      <td>4</td>\n",
       "      <td>30</td>\n",
       "    </tr>\n",
       "    <tr>\n",
       "      <th>2</th>\n",
       "      <td>20.875000</td>\n",
       "      <td>3.571429</td>\n",
       "      <td>5.687783</td>\n",
       "      <td>535</td>\n",
       "      <td>637</td>\n",
       "      <td>62</td>\n",
       "      <td>201</td>\n",
       "      <td>-4.0</td>\n",
       "      <td>12</td>\n",
       "      <td>25</td>\n",
       "    </tr>\n",
       "    <tr>\n",
       "      <th>3</th>\n",
       "      <td>-5.500000</td>\n",
       "      <td>5.122292</td>\n",
       "      <td>2.383673</td>\n",
       "      <td>2140</td>\n",
       "      <td>2335</td>\n",
       "      <td>115</td>\n",
       "      <td>508</td>\n",
       "      <td>-33.0</td>\n",
       "      <td>11</td>\n",
       "      <td>28</td>\n",
       "    </tr>\n",
       "    <tr>\n",
       "      <th>4</th>\n",
       "      <td>-3.954545</td>\n",
       "      <td>6.956799</td>\n",
       "      <td>10.413694</td>\n",
       "      <td>1929</td>\n",
       "      <td>2112</td>\n",
       "      <td>163</td>\n",
       "      <td>733</td>\n",
       "      <td>-13.0</td>\n",
       "      <td>5</td>\n",
       "      <td>6</td>\n",
       "    </tr>\n",
       "    <tr>\n",
       "      <th>5</th>\n",
       "      <td>5.250000</td>\n",
       "      <td>2.959515</td>\n",
       "      <td>1.326316</td>\n",
       "      <td>1008</td>\n",
       "      <td>1145</td>\n",
       "      <td>97</td>\n",
       "      <td>457</td>\n",
       "      <td>-15.0</td>\n",
       "      <td>11</td>\n",
       "      <td>14</td>\n",
       "    </tr>\n",
       "    <tr>\n",
       "      <th>...</th>\n",
       "      <td>...</td>\n",
       "      <td>...</td>\n",
       "      <td>...</td>\n",
       "      <td>...</td>\n",
       "      <td>...</td>\n",
       "      <td>...</td>\n",
       "      <td>...</td>\n",
       "      <td>...</td>\n",
       "      <td>...</td>\n",
       "      <td>...</td>\n",
       "    </tr>\n",
       "    <tr>\n",
       "      <th>99995</th>\n",
       "      <td>-3.952381</td>\n",
       "      <td>6.125364</td>\n",
       "      <td>7.095023</td>\n",
       "      <td>700</td>\n",
       "      <td>935</td>\n",
       "      <td>155</td>\n",
       "      <td>910</td>\n",
       "      <td>-13.0</td>\n",
       "      <td>8</td>\n",
       "      <td>11</td>\n",
       "    </tr>\n",
       "    <tr>\n",
       "      <th>99996</th>\n",
       "      <td>-0.608696</td>\n",
       "      <td>9.747001</td>\n",
       "      <td>9.022727</td>\n",
       "      <td>540</td>\n",
       "      <td>758</td>\n",
       "      <td>138</td>\n",
       "      <td>752</td>\n",
       "      <td>47.0</td>\n",
       "      <td>8</td>\n",
       "      <td>10</td>\n",
       "    </tr>\n",
       "    <tr>\n",
       "      <th>99997</th>\n",
       "      <td>-14.250000</td>\n",
       "      <td>10.153101</td>\n",
       "      <td>9.022727</td>\n",
       "      <td>1550</td>\n",
       "      <td>1900</td>\n",
       "      <td>130</td>\n",
       "      <td>812</td>\n",
       "      <td>-20.0</td>\n",
       "      <td>4</td>\n",
       "      <td>2</td>\n",
       "    </tr>\n",
       "    <tr>\n",
       "      <th>99998</th>\n",
       "      <td>-7.842105</td>\n",
       "      <td>6.280078</td>\n",
       "      <td>19.653990</td>\n",
       "      <td>1625</td>\n",
       "      <td>1829</td>\n",
       "      <td>124</td>\n",
       "      <td>529</td>\n",
       "      <td>-11.0</td>\n",
       "      <td>9</td>\n",
       "      <td>21</td>\n",
       "    </tr>\n",
       "    <tr>\n",
       "      <th>99999</th>\n",
       "      <td>11.066667</td>\n",
       "      <td>6.956799</td>\n",
       "      <td>8.332304</td>\n",
       "      <td>1350</td>\n",
       "      <td>1647</td>\n",
       "      <td>237</td>\n",
       "      <td>1389</td>\n",
       "      <td>21.0</td>\n",
       "      <td>5</td>\n",
       "      <td>19</td>\n",
       "    </tr>\n",
       "  </tbody>\n",
       "</table>\n",
       "<p>98040 rows × 10 columns</p>\n",
       "</div>"
      ],
      "text/plain": [
       "       avg_delay_tail_num  avg_delay_origin  avg_delay_dest  crs_dep_time  \\\n",
       "1                2.296296          2.854545        5.988561          1130   \n",
       "2               20.875000          3.571429        5.687783           535   \n",
       "3               -5.500000          5.122292        2.383673          2140   \n",
       "4               -3.954545          6.956799       10.413694          1929   \n",
       "5                5.250000          2.959515        1.326316          1008   \n",
       "...                   ...               ...             ...           ...   \n",
       "99995           -3.952381          6.125364        7.095023           700   \n",
       "99996           -0.608696          9.747001        9.022727           540   \n",
       "99997          -14.250000         10.153101        9.022727          1550   \n",
       "99998           -7.842105          6.280078       19.653990          1625   \n",
       "99999           11.066667          6.956799        8.332304          1350   \n",
       "\n",
       "       crs_arr_time  crs_elapsed_time  distance  arr_delay  month  day  \n",
       "1              1244                74       250        7.0      4   30  \n",
       "2               637                62       201       -4.0     12   25  \n",
       "3              2335               115       508      -33.0     11   28  \n",
       "4              2112               163       733      -13.0      5    6  \n",
       "5              1145                97       457      -15.0     11   14  \n",
       "...             ...               ...       ...        ...    ...  ...  \n",
       "99995           935               155       910      -13.0      8   11  \n",
       "99996           758               138       752       47.0      8   10  \n",
       "99997          1900               130       812      -20.0      4    2  \n",
       "99998          1829               124       529      -11.0      9   21  \n",
       "99999          1647               237      1389       21.0      5   19  \n",
       "\n",
       "[98040 rows x 10 columns]"
      ]
     },
     "execution_count": 20,
     "metadata": {},
     "output_type": "execute_result"
    }
   ],
   "source": [
    "## Features to use for modelling\n",
    "df_model"
   ]
  },
  {
   "cell_type": "code",
   "execution_count": 22,
   "metadata": {},
   "outputs": [],
   "source": [
    "# df_model.to_csv('featuresV1.csv', index = False)\n",
    "# df_flights.to_csv('flightsV3.csv', index = False)"
   ]
  },
  {
   "cell_type": "markdown",
   "metadata": {},
   "source": [
    "### Feature Selection / Dimensionality Reduction"
   ]
  },
  {
   "cell_type": "markdown",
   "metadata": {},
   "source": [
    "We need to apply different selection techniques to find out which one will be the best for our problems.\n",
    "\n",
    "- Original Features vs. PCA conponents?"
   ]
  },
  {
   "cell_type": "markdown",
   "metadata": {},
   "source": [
    "### Modeling"
   ]
  },
  {
   "cell_type": "markdown",
   "metadata": {},
   "source": [
    "Use different ML techniques to predict each problem.\n",
    "\n",
    "- linear / logistic / multinomial logistic regression\n",
    "- Naive Bayes\n",
    "- Random Forest\n",
    "- SVM\n",
    "- XGBoost\n",
    "- The ensemble of your own choice"
   ]
  },
  {
   "cell_type": "markdown",
   "metadata": {},
   "source": [
    "### Set up data"
   ]
  },
  {
   "cell_type": "code",
   "execution_count": 11,
   "metadata": {},
   "outputs": [],
   "source": [
    "from sklearn.linear_model import LinearRegression\n",
    "from sklearn.ensemble import RandomForestRegressor\n",
    "from sklearn.svm import SVR\n",
    "from sklearn.model_selection import train_test_split\n",
    "from sklearn.preprocessing import StandardScaler\n",
    "from sklearn.metrics import r2_score\n",
    "from sklearn.metrics import mean_squared_error\n",
    "from sklearn.metrics import mean_absolute_error\n",
    "from sklearn.decomposition import PCA"
   ]
  },
  {
   "cell_type": "code",
   "execution_count": 12,
   "metadata": {},
   "outputs": [],
   "source": [
    "df_model = pd.read_csv('Data/featuresV1.csv')\n",
    "# df_model.drop(columns = ['Unnamed: 0'], inplace=True)"
   ]
  },
  {
   "cell_type": "code",
   "execution_count": 13,
   "metadata": {},
   "outputs": [],
   "source": [
    "cat_features = ['month']\n",
    "cont_features = ['avg_delay_tail_num', 'avg_delay_origin', 'avg_delay_dest', 'crs_dep_time', 'crs_arr_time', 'crs_elapsed_time', 'distance']"
   ]
  },
  {
   "cell_type": "code",
   "execution_count": 14,
   "metadata": {},
   "outputs": [],
   "source": [
    "X = df_model.drop(columns = ['arr_delay'])\n",
    "y = df_model[['arr_delay']]"
   ]
  },
  {
   "cell_type": "code",
   "execution_count": 15,
   "metadata": {},
   "outputs": [],
   "source": [
    "## Split data\n",
    "X_train, X_test, y_train, y_test = train_test_split(X, y, train_size=0.8, test_size=0.2, random_state = 646)"
   ]
  },
  {
   "cell_type": "code",
   "execution_count": 16,
   "metadata": {},
   "outputs": [
    {
     "name": "stdout",
     "output_type": "stream",
     "text": [
      "78432 training samples and 19608 test samples\n"
     ]
    }
   ],
   "source": [
    "print(f'{len(X_train)} training samples and {len(X_test)} test samples')"
   ]
  },
  {
   "cell_type": "markdown",
   "metadata": {},
   "source": [
    "##### Data for Linear/Ridge/Lasso Regression"
   ]
  },
  {
   "cell_type": "code",
   "execution_count": 17,
   "metadata": {},
   "outputs": [],
   "source": [
    "df_model_scaled = df_model"
   ]
  },
  {
   "cell_type": "code",
   "execution_count": 18,
   "metadata": {},
   "outputs": [],
   "source": [
    "## Scaled data \n",
    "scaler = StandardScaler()\n",
    "df_model_scaled[cont_features] = scaler.fit_transform(df_model[cont_features])\n"
   ]
  },
  {
   "cell_type": "code",
   "execution_count": 19,
   "metadata": {},
   "outputs": [],
   "source": [
    "X_scaled = df_model_scaled.drop(columns = ['arr_delay'])\n",
    "y_scaled = df_model_scaled[['arr_delay']]\n",
    "Xs_train, Xs_test, ys_train, ys_test = train_test_split(X_scaled, y_scaled, train_size=0.8, test_size=0.2, random_state = 646)"
   ]
  },
  {
   "cell_type": "code",
   "execution_count": 21,
   "metadata": {},
   "outputs": [],
   "source": [
    "df_ds = pd.get_dummies(df_model_scaled, columns=cat_features)"
   ]
  },
  {
   "cell_type": "code",
   "execution_count": 41,
   "metadata": {},
   "outputs": [],
   "source": [
    "X_ds = df_ds.drop(columns = ['arr_delay'])\n",
    "y_ds = df_ds[['arr_delay']]\n",
    "Xds_train, Xds_test, yds_train, yds_test = train_test_split(X_ds, y_ds, train_size=0.8, test_size=0.2, random_state = 646)"
   ]
  },
  {
   "cell_type": "markdown",
   "metadata": {},
   "source": [
    "##### Data for XGB and Random Forest"
   ]
  },
  {
   "cell_type": "code",
   "execution_count": 22,
   "metadata": {},
   "outputs": [],
   "source": [
    "df_model2 = df_model\n",
    "## Drop days\n",
    "df_model2.drop(columns = ['day'], inplace = True)"
   ]
  },
  {
   "cell_type": "code",
   "execution_count": 23,
   "metadata": {},
   "outputs": [],
   "source": [
    "df_model2 = pd.get_dummies(df_model2, columns=cat_features)"
   ]
  },
  {
   "cell_type": "code",
   "execution_count": 24,
   "metadata": {},
   "outputs": [],
   "source": [
    "X_dummys = df_model2.drop(columns = ['arr_delay'])\n",
    "y_dummys = df_model2[['arr_delay']]"
   ]
  },
  {
   "cell_type": "code",
   "execution_count": 25,
   "metadata": {},
   "outputs": [],
   "source": [
    "Xd_train, Xd_test, yd_train, yd_test = train_test_split(X_dummys, y_dummys, train_size=0.8, test_size=0.2, random_state = 646)"
   ]
  },
  {
   "cell_type": "markdown",
   "metadata": {},
   "source": [
    "### Random Forest"
   ]
  },
  {
   "cell_type": "code",
   "execution_count": null,
   "metadata": {},
   "outputs": [],
   "source": [
    "## Hyperparameter tuning was run in a seperate notebook, code included here but commented out since GridSearch takes alot of time\n",
    "# params_dict = {\n",
    "#                 'n_estimators':[50,100],\n",
    "#                 'max_depth' : [5,10,15],\n",
    "#                 'max_features':[5,10,15],\n",
    "#                 }\n",
    "\n",
    "# rfr_search = GridSearchCV(estimator = model_rfr,\n",
    "#                            param_grid = params_dict,                        \n",
    "#                            n_jobs = -1,\n",
    "#                            verbose = 1)\n",
    "# rfr_search.fit(Xd_train,yd_train)\n",
    "\n",
    "# rfr_search.best_params_"
   ]
  },
  {
   "cell_type": "code",
   "execution_count": 74,
   "metadata": {},
   "outputs": [],
   "source": [
    "## instantiate model with optimal hyperparams from gridsearch\n",
    "model_rfr = RandomForestRegressor(n_estimators=150, max_depth = 10, max_features = 10)"
   ]
  },
  {
   "cell_type": "code",
   "execution_count": null,
   "metadata": {},
   "outputs": [],
   "source": [
    "model_rfr.fit(Xd_train,yd_train)\n",
    "y_pred_train = model_rfr.predict(Xd_train)\n",
    "y_pred_test = model_rfr.predict(Xd_test)"
   ]
  },
  {
   "cell_type": "code",
   "execution_count": 76,
   "metadata": {},
   "outputs": [
    {
     "name": "stdout",
     "output_type": "stream",
     "text": [
      "The train r2 score is:  0.3575980681522287\n",
      "The test r2 score is:  0.11684435932103931\n",
      "The train MAE score is:  22.387426476830516\n",
      "The test MAE score is:  23.61781629833776\n"
     ]
    }
   ],
   "source": [
    "r2_train = r2_score(yd_train, y_pred_train)\n",
    "r2_test = r2_score(yd_test, y_pred_test)\n",
    "mae_train = mean_absolute_error(yd_train, y_pred_train)\n",
    "mae_test = mean_absolute_error(yd_test, y_pred_test)\n",
    "\n",
    "\n",
    "print(\"The train r2 score is: \",  r2_train)\n",
    "print(\"The test r2 score is: \",  r2_test)\n",
    "print(\"The train MAE score is: \",  mae_train)\n",
    "print(\"The test MAE score is: \",  mae_test)"
   ]
  },
  {
   "cell_type": "markdown",
   "metadata": {},
   "source": [
    "### XGBoost"
   ]
  },
  {
   "cell_type": "code",
   "execution_count": 61,
   "metadata": {},
   "outputs": [],
   "source": [
    "from xgboost import XGBRegressor\n",
    "from sklearn.model_selection import GridSearchCV"
   ]
  },
  {
   "cell_type": "code",
   "execution_count": null,
   "metadata": {},
   "outputs": [],
   "source": [
    "## Hyperparameter tuning was run in a seperate notebook, code included here but commented out since GridSearch takes alot of time\n",
    "# params_dict = {\n",
    "#                 'learning_rate':[0.01,0.1],\n",
    "#                 'colsample_bytree': [0.3,0.6,0.9],\n",
    "#                 'n_estimators':[100,200,300],\n",
    "#                 'max_depth':[10,15],\n",
    "#                 'alpha':[5,10],\n",
    "#                 'objective': ['reg:squarederror']}\n",
    "\n",
    "# xgb_search = GridSearchCV(estimator = model_xgr,\n",
    "#                            param_grid = params_dict,                        \n",
    "#                            n_jobs = -1,\n",
    "#                            verbose = 1)\n",
    "# xgb_search.fit(Xd_train,yd_train)\n",
    "# xgb_search.best_score_\n",
    "# xgb_search.best_params_"
   ]
  },
  {
   "cell_type": "code",
   "execution_count": 68,
   "metadata": {},
   "outputs": [],
   "source": [
    "## Fit with optimal  hyperparams from gridsearch\n",
    "xgr = XGBRegressor(objective ='reg:squarederror', colsample_bytree = 0.6, learning_rate = 0.01, max_depth = 15, alpha = 10, n_estimators = 500)"
   ]
  },
  {
   "cell_type": "code",
   "execution_count": 69,
   "metadata": {},
   "outputs": [],
   "source": [
    "model_xgr = xgr.fit(Xd_train,yd_train)\n",
    "y_pred_train = model_xgr.predict(Xd_train)\n",
    "y_pred_test = model_xgr.predict(Xd_test)"
   ]
  },
  {
   "cell_type": "code",
   "execution_count": 70,
   "metadata": {},
   "outputs": [
    {
     "name": "stdout",
     "output_type": "stream",
     "text": [
      "The train r2 score is:  0.8514045256039005\n",
      "The test r2 score is:  0.05006442891649365\n",
      "The train MAE score is:  12.32838317523575\n",
      "The test MAE score is:  24.149724961200345\n"
     ]
    }
   ],
   "source": [
    "r2_train = r2_score(yd_train, y_pred_train)\n",
    "r2_test = r2_score(yd_test, y_pred_test)\n",
    "mae_train = mean_absolute_error(yd_train, y_pred_train)\n",
    "mae_test = mean_absolute_error(yd_test, y_pred_test)\n",
    "\n",
    "\n",
    "print(\"The train r2 score is: \",  r2_train)\n",
    "print(\"The test r2 score is: \",  r2_test)\n",
    "print(\"The train MAE score is: \",  mae_train)\n",
    "print(\"The test MAE score is: \",  mae_test)"
   ]
  },
  {
   "cell_type": "markdown",
   "metadata": {},
   "source": [
    "### Linear/Lasso/Ridge Regression"
   ]
  },
  {
   "cell_type": "code",
   "execution_count": 38,
   "metadata": {},
   "outputs": [],
   "source": [
    "from sklearn.linear_model import LinearRegression, Ridge, RidgeCV, Lasso, LassoCV"
   ]
  },
  {
   "cell_type": "code",
   "execution_count": 39,
   "metadata": {},
   "outputs": [],
   "source": [
    "model_lr = LinearRegression()\n",
    "model_rr = Ridge()\n",
    "model_ls = Lasso()"
   ]
  },
  {
   "cell_type": "markdown",
   "metadata": {},
   "source": [
    "### Linear Regression"
   ]
  },
  {
   "cell_type": "code",
   "execution_count": 42,
   "metadata": {},
   "outputs": [],
   "source": [
    "model_lr.fit(Xds_train,yds_train)\n",
    "y_pred_train = model_lr.predict(Xds_train)\n",
    "y_pred_test = model_lr.predict(Xds_test)"
   ]
  },
  {
   "cell_type": "code",
   "execution_count": 68,
   "metadata": {},
   "outputs": [
    {
     "name": "stdout",
     "output_type": "stream",
     "text": [
      "The train r2 score is:  0.09198853492697001\n",
      "The test r2 score is:  0.10922913678882851\n",
      "The train MAE score is:  24.305380571856304\n",
      "The test MAE score is:  24.108747061967687\n"
     ]
    }
   ],
   "source": [
    "r2_train = r2_score(yds_train, y_pred_train)\n",
    "r2_test = r2_score(yds_test, y_pred_test)\n",
    "mae_train = mean_absolute_error(yds_train, y_pred_train)\n",
    "mae_test = mean_absolute_error(yds_test, y_pred_test)\n",
    "\n",
    "\n",
    "print(\"The train r2 score is: \",  r2_train)\n",
    "print(\"The test r2 score is: \",  r2_test)\n",
    "print(\"The train MAE score is: \",  mae_train)\n",
    "print(\"The test MAE score is: \",  mae_test)"
   ]
  },
  {
   "cell_type": "markdown",
   "metadata": {},
   "source": [
    "### Lasso Regression"
   ]
  },
  {
   "cell_type": "markdown",
   "metadata": {},
   "source": [
    "Try CV search for best param?"
   ]
  },
  {
   "cell_type": "code",
   "execution_count": 43,
   "metadata": {},
   "outputs": [],
   "source": [
    "model_ls.fit(Xds_train,yds_train)\n",
    "y_pred_train = model_ls.predict(Xds_train)\n",
    "y_pred_test = model_ls.predict(Xds_test)"
   ]
  },
  {
   "cell_type": "code",
   "execution_count": 44,
   "metadata": {},
   "outputs": [
    {
     "name": "stdout",
     "output_type": "stream",
     "text": [
      "The train r2 score is:  0.08774634294132277\n",
      "The test r2 score is:  0.10247692452623025\n",
      "The train MAE score is:  24.109581430384317\n",
      "The test MAE score is:  23.924182949824694\n"
     ]
    }
   ],
   "source": [
    "r2_train = r2_score(yds_train, y_pred_train)\n",
    "r2_test = r2_score(yds_test, y_pred_test)\n",
    "mae_train = mean_absolute_error(yds_train, y_pred_train)\n",
    "mae_test = mean_absolute_error(yds_test, y_pred_test)\n",
    "\n",
    "\n",
    "print(\"The train r2 score is: \",  r2_train)\n",
    "print(\"The test r2 score is: \",  r2_test)\n",
    "print(\"The train MAE score is: \",  mae_train)\n",
    "print(\"The test MAE score is: \",  mae_test)"
   ]
  },
  {
   "cell_type": "markdown",
   "metadata": {},
   "source": [
    "### Ridge Regression"
   ]
  },
  {
   "cell_type": "code",
   "execution_count": 45,
   "metadata": {},
   "outputs": [],
   "source": [
    "model_rr.fit(Xds_train,yds_train)\n",
    "y_pred_train = model_rr.predict(Xds_train)\n",
    "y_pred_test = model_rr.predict(Xds_test)"
   ]
  },
  {
   "cell_type": "code",
   "execution_count": 46,
   "metadata": {},
   "outputs": [
    {
     "name": "stdout",
     "output_type": "stream",
     "text": [
      "The train r2 score is:  0.09202565971857646\n",
      "The test r2 score is:  0.1091259194501305\n",
      "The train MAE score is:  24.30488581599533\n",
      "The test MAE score is:  24.11075395651564\n"
     ]
    }
   ],
   "source": [
    "r2_train = r2_score(yds_train, y_pred_train)\n",
    "r2_test = r2_score(yds_test, y_pred_test)\n",
    "mae_train = mean_absolute_error(yds_train, y_pred_train)\n",
    "mae_test = mean_absolute_error(yds_test, y_pred_test)\n",
    "\n",
    "\n",
    "print(\"The train r2 score is: \",  r2_train)\n",
    "print(\"The test r2 score is: \",  r2_test)\n",
    "print(\"The train MAE score is: \",  mae_train)\n",
    "print(\"The test MAE score is: \",  mae_test)"
   ]
  },
  {
   "cell_type": "markdown",
   "metadata": {},
   "source": [
    "### Regression with PCA"
   ]
  },
  {
   "cell_type": "code",
   "execution_count": 47,
   "metadata": {},
   "outputs": [
    {
     "data": {
      "text/plain": [
       "Text(0, 0.5, '% Cumulative explained variance')"
      ]
     },
     "execution_count": 47,
     "metadata": {},
     "output_type": "execute_result"
    },
    {
     "data": {
      "image/png": "[encoded data removed]",
      "text/plain": [
       "<Figure size 640x480 with 1 Axes>"
      ]
     },
     "metadata": {},
     "output_type": "display_data"
    }
   ],
   "source": [
    "## First lets look at cumulative explained variance\n",
    "pca = PCA()\n",
    "pca.fit(df_model_scaled.drop(columns = ['arr_delay']))\n",
    "\n",
    "cum_explained_variance = np.cumsum(pca.explained_variance_ratio_)\n",
    "\n",
    "## Plot cumulative explained variance against number of PCs\n",
    "plt.plot(cum_explained_variance)\n",
    "plt.xlabel('PC number')\n",
    "plt.ylabel('% Cumulative explained variance')"
   ]
  },
  {
   "cell_type": "code",
   "execution_count": 48,
   "metadata": {},
   "outputs": [],
   "source": [
    "## Based on Cumulative explained variance, Choose 5 PCA components\n",
    "pca = PCA(n_components=5)\n",
    "df_pca = pd.DataFrame(pca.fit_transform(df_model_scaled.drop(columns = ['arr_delay'])))"
   ]
  },
  {
   "cell_type": "code",
   "execution_count": 49,
   "metadata": {},
   "outputs": [],
   "source": [
    "## Split data\n",
    "Xp_train, Xp_test, yp_train, yp_test = train_test_split(df_pca, y, train_size=0.8, test_size=0.2, random_state = 646)"
   ]
  },
  {
   "cell_type": "code",
   "execution_count": 50,
   "metadata": {},
   "outputs": [],
   "source": [
    "## Linear Regression model\n",
    "model_lr.fit(Xp_train,yp_train)\n",
    "y_pred_train = model_lr.predict(Xp_train)\n",
    "y_pred_test = model_lr.predict(Xp_test)"
   ]
  },
  {
   "cell_type": "code",
   "execution_count": 51,
   "metadata": {},
   "outputs": [
    {
     "name": "stdout",
     "output_type": "stream",
     "text": [
      "The train r2 score is:  0.08859291882620801\n",
      "The test r2 score is:  0.10398431007666065\n",
      "The train MAE score is:  24.342352169691914\n",
      "The test MAE score is:  24.156127470193905\n"
     ]
    }
   ],
   "source": [
    "r2_train = r2_score(yp_train, y_pred_train)\n",
    "r2_test = r2_score(yp_test, y_pred_test)\n",
    "mae_train = mean_absolute_error(yp_train, y_pred_train)\n",
    "mae_test = mean_absolute_error(yp_test, y_pred_test)\n",
    "\n",
    "\n",
    "print(\"The train r2 score is: \",  r2_train)\n",
    "print(\"The test r2 score is: \",  r2_test)\n",
    "print(\"The train MAE score is: \",  mae_train)\n",
    "print(\"The test MAE score is: \",  mae_test)"
   ]
  },
  {
   "cell_type": "code",
   "execution_count": 52,
   "metadata": {},
   "outputs": [
    {
     "name": "stdout",
     "output_type": "stream",
     "text": [
      "The train r2 score is:  0.08742442421689611\n",
      "The test r2 score is:  0.10241396060493368\n",
      "The train MAE score is:  24.144806369278783\n",
      "The test MAE score is:  23.95258529109294\n"
     ]
    }
   ],
   "source": [
    "## Lasso Regression model\n",
    "model_ls.fit(Xp_train,yp_train)\n",
    "y_pred_train = model_ls.predict(Xp_train)\n",
    "y_pred_test = model_ls.predict(Xp_test)\n",
    "\n",
    "r2_train = r2_score(yp_train, y_pred_train)\n",
    "r2_test = r2_score(yp_test, y_pred_test)\n",
    "mae_train = mean_absolute_error(yp_train, y_pred_train)\n",
    "mae_test = mean_absolute_error(yp_test, y_pred_test)\n",
    "\n",
    "\n",
    "print(\"The train r2 score is: \",  r2_train)\n",
    "print(\"The test r2 score is: \",  r2_test)\n",
    "print(\"The train MAE score is: \",  mae_train)\n",
    "print(\"The test MAE score is: \",  mae_test)"
   ]
  },
  {
   "cell_type": "code",
   "execution_count": 53,
   "metadata": {},
   "outputs": [
    {
     "name": "stdout",
     "output_type": "stream",
     "text": [
      "The train r2 score is:  0.0885929188146426\n",
      "The test r2 score is:  0.10398423393480138\n",
      "The train MAE score is:  24.342328250277703\n",
      "The test MAE score is:  24.15610417833535\n"
     ]
    }
   ],
   "source": [
    "## Ridge Regression model\n",
    "model_rr.fit(Xp_train,yp_train)\n",
    "y_pred_train = model_rr.predict(Xp_train)\n",
    "y_pred_test = model_rr.predict(Xp_test)\n",
    "\n",
    "r2_train = r2_score(yp_train, y_pred_train)\n",
    "r2_test = r2_score(yp_test, y_pred_test)\n",
    "mae_train = mean_absolute_error(yp_train, y_pred_train)\n",
    "mae_test = mean_absolute_error(yp_test, y_pred_test)\n",
    "\n",
    "\n",
    "print(\"The train r2 score is: \",  r2_train)\n",
    "print(\"The test r2 score is: \",  r2_test)\n",
    "print(\"The train MAE score is: \",  mae_train)\n",
    "print(\"The test MAE score is: \",  mae_test)"
   ]
  },
  {
   "cell_type": "code",
   "execution_count": null,
   "metadata": {},
   "outputs": [],
   "source": []
  },
  {
   "cell_type": "code",
   "execution_count": null,
   "metadata": {},
   "outputs": [],
   "source": []
  },
  {
   "cell_type": "code",
   "execution_count": null,
   "metadata": {},
   "outputs": [],
   "source": []
  },
  {
   "cell_type": "markdown",
   "metadata": {},
   "source": [
    "### Evaluation"
   ]
  },
  {
   "cell_type": "markdown",
   "metadata": {},
   "source": [
    "You have data from 2018 and 2019 to develop models. Use different evaluation metrics for each problem and compare the performance of different models.\n",
    "\n",
    "You are required to predict delays on **out of sample** data from **first 7 days (1st-7th) of January 2020** and to share the file with LighthouseLabs. Sample submission can be found in the file **_sample_submission.csv_**"
   ]
  },
  {
   "cell_type": "code",
   "execution_count": null,
   "metadata": {},
   "outputs": [],
   "source": []
  },
  {
   "cell_type": "code",
   "execution_count": null,
   "metadata": {},
   "outputs": [],
   "source": []
  },
  {
   "cell_type": "code",
   "execution_count": null,
   "metadata": {},
   "outputs": [],
   "source": []
  },
  {
   "cell_type": "code",
   "execution_count": null,
   "metadata": {},
   "outputs": [],
   "source": []
  },
  {
   "cell_type": "markdown",
   "metadata": {},
   "source": [
    "======================================================================\n",
    "## Stretch Tasks"
   ]
  },
  {
   "cell_type": "markdown",
   "metadata": {},
   "source": [
    "### Multiclass Classification"
   ]
  },
  {
   "cell_type": "markdown",
   "metadata": {},
   "source": [
    "The target variables are **CARRIER_DELAY, WEATHER_DELAY, NAS_DELAY, SECURITY_DELAY, LATE_AIRCRAFT_DELAY**. We need to do additional transformations because these variables are not binary but continuos. For each flight that was delayed, we need to have one of these variables as 1 and others 0.\n",
    "\n",
    "It can happen that we have two types of delays with more than 0 minutes. In this case, take the bigger one as 1 and others as 0."
   ]
  },
  {
   "cell_type": "code",
   "execution_count": null,
   "metadata": {},
   "outputs": [],
   "source": []
  },
  {
   "cell_type": "code",
   "execution_count": null,
   "metadata": {},
   "outputs": [],
   "source": []
  },
  {
   "cell_type": "code",
   "execution_count": null,
   "metadata": {},
   "outputs": [],
   "source": []
  },
  {
   "cell_type": "markdown",
   "metadata": {},
   "source": [
    "### Binary Classification"
   ]
  },
  {
   "cell_type": "markdown",
   "metadata": {},
   "source": [
    "The target variable is **CANCELLED**. The main problem here is going to be huge class imbalance. We have only very little cancelled flights with comparison to all flights. It is important to do the right sampling before training and to choose correct evaluation metrics."
   ]
  },
  {
   "cell_type": "code",
   "execution_count": null,
   "metadata": {},
   "outputs": [],
   "source": []
  },
  {
   "cell_type": "code",
   "execution_count": null,
   "metadata": {},
   "outputs": [],
   "source": []
  },
  {
   "cell_type": "code",
   "execution_count": null,
   "metadata": {},
   "outputs": [],
   "source": []
  }
 ],
 "metadata": {
  "kernelspec": {
   "display_name": "Python 3 (ipykernel)",
   "language": "python",
   "name": "python3"
  },
  "language_info": {
   "codemirror_mode": {
    "name": "ipython",
    "version": 3
   },
   "file_extension": ".py",
   "mimetype": "text/x-python",
   "name": "python",
   "nbconvert_exporter": "python",
   "pygments_lexer": "ipython3",
   "version": "3.9.13"
  }
 },
 "nbformat": 4,
 "nbformat_minor": 4
}
